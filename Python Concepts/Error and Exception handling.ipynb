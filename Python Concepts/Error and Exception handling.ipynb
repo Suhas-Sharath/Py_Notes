{
 "cells": [
  {
   "cell_type": "markdown",
   "id": "12f53a0f",
   "metadata": {},
   "source": [
    "# ERROR and EXCEPTION HANDLING"
   ]
  },
  {
   "cell_type": "markdown",
   "id": "82c9ec02",
   "metadata": {},
   "source": [
    "- error handling \n",
    "- using this , lets the script continue executing without stopping.\n",
    "- try : used on code which may lead to an error\n",
    "- except : executes if there is an error from try block\n",
    "- finally : this will be executed regardless of an error."
   ]
  },
  {
   "cell_type": "code",
   "execution_count": 1,
   "id": "84f53efb",
   "metadata": {},
   "outputs": [
    {
     "name": "stdout",
     "output_type": "stream",
     "text": [
      "Enter a number: 2\n",
      "Result: 5.0\n",
      "Execution complete.\n",
      "Enter a number: str\n",
      "Invalid input. Please enter a valid number.\n",
      "Execution complete.\n",
      "Enter a number: 0\n",
      "Cannot divide by zero.\n",
      "Execution complete.\n"
     ]
    }
   ],
   "source": [
    "def exp_hand():\n",
    "    try:\n",
    "        num = int(input(\"Enter a number: \"))\n",
    "        result = 10 / num\n",
    "    except ZeroDivisionError:\n",
    "        print(\"Cannot divide by zero.\")\n",
    "    except ValueError:\n",
    "        print(\"Invalid input. Please enter a valid number.\")\n",
    "    else:\n",
    "        print(\"Result:\", result)\n",
    "    finally:\n",
    "        print(\"Execution complete.\")\n",
    "\n",
    "exp_hand()\n",
    "exp_hand()\n",
    "exp_hand()"
   ]
  },
  {
   "cell_type": "markdown",
   "id": "e08ad56a",
   "metadata": {},
   "source": [
    "- try\n",
    "    this block is used to enclose the code that might raise an exception\n",
    "- except \n",
    "    this block specifices what should happend with this particular exceptiom\n",
    "- else \n",
    "    optional block \n",
    "    executed when none of the except block is executed\n",
    "- finally \n",
    "    optional block\n",
    "    this block is executed, whether an exception is raised or not."
   ]
  },
  {
   "cell_type": "code",
   "execution_count": null,
   "id": "ed8afffd",
   "metadata": {},
   "outputs": [],
   "source": []
  }
 ],
 "metadata": {
  "kernelspec": {
   "display_name": "Python 3 (ipykernel)",
   "language": "python",
   "name": "python3"
  },
  "language_info": {
   "codemirror_mode": {
    "name": "ipython",
    "version": 3
   },
   "file_extension": ".py",
   "mimetype": "text/x-python",
   "name": "python",
   "nbconvert_exporter": "python",
   "pygments_lexer": "ipython3",
   "version": "3.9.13"
  }
 },
 "nbformat": 4,
 "nbformat_minor": 5
}
