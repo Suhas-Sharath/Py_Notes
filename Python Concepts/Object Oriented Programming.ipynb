{
 "cells": [
  {
   "cell_type": "markdown",
   "id": "495bc576",
   "metadata": {},
   "source": [
    "# OOPS - Object Oriented Programming"
   ]
  },
  {
   "cell_type": "markdown",
   "id": "b9668bd4",
   "metadata": {},
   "source": [
    "- class => blueprint for creating objects\n",
    "- create own objects \n",
    "- keyword 'class'\n",
    "- Repeatble and reusuable code \n",
    "- class name follow camel-casing \n",
    "- class NameOfClass():\n",
    "- a function inside a class is called method"
   ]
  },
  {
   "cell_type": "code",
   "execution_count": 1,
   "id": "ee04f9bb",
   "metadata": {},
   "outputs": [
    {
     "name": "stdout",
     "output_type": "stream",
     "text": [
      "<class 'type'>\n",
      "<class '__main__.NameOfClass'>\n"
     ]
    }
   ],
   "source": [
    "class NameOfClass():\n",
    "    pass\n",
    "\n",
    "print(type(NameOfClass))\n",
    "\n",
    "# object of class\n",
    "obj = NameOfClass()\n",
    "\n",
    "print(type(obj))"
   ]
  },
  {
   "cell_type": "markdown",
   "id": "4b6ec348",
   "metadata": {},
   "source": [
    "#### __init__ method - special method \n",
    "- known as the consutructor of the class\n",
    "\n",
    "#### called while initializing\n",
    "\n",
    "def __init__(self,var):\n",
    "    \n",
    "    self.var = var\n",
    "    "
   ]
  },
  {
   "cell_type": "markdown",
   "id": "873e13e0",
   "metadata": {},
   "source": [
    "#### self\n",
    "\n",
    "- instance of the object itself\n",
    "- its a hidden parameter in other languages but in python it needs to be explicitly declared.\n",
    "- other names can also be used instead of self, but stick to self."
   ]
  },
  {
   "cell_type": "code",
   "execution_count": 2,
   "id": "75b28175",
   "metadata": {},
   "outputs": [
    {
     "name": "stdout",
     "output_type": "stream",
     "text": [
      "The aot character name is eren yeager\n",
      "<class 'method'>\n",
      "<class 'str'>\n"
     ]
    }
   ],
   "source": [
    "class Aot():\n",
    "    def __init__(self,aot_character):\n",
    "        self.character = aot_character\n",
    "    def prnt(self):\n",
    "        print(f\"The aot character name is {self.character}\")\n",
    "        \n",
    "        \n",
    "obj = Aot(aot_character = 'eren yeager')\n",
    "obj.prnt()\n",
    "\n",
    "\n",
    "# what is prnt(self)\n",
    "\n",
    "print(type(obj.prnt))      # method not a function\n",
    "print(type(obj.character))"
   ]
  },
  {
   "attachments": {
    "1.png": {
     "image/png": "[encoded data removed]"
    }
   },
   "cell_type": "markdown",
   "id": "8cc2458a",
   "metadata": {},
   "source": [
    "![1.png](attachment:1.png)"
   ]
  },
  {
   "cell_type": "markdown",
   "id": "44e557c4",
   "metadata": {},
   "source": [
    "aot_character is the attribute\n",
    "\n",
    "self.character = aot_character"
   ]
  },
  {
   "cell_type": "code",
   "execution_count": 3,
   "id": "8a5a89f7",
   "metadata": {},
   "outputs": [
    {
     "name": "stdout",
     "output_type": "stream",
     "text": [
      "The aot character name is eren yeager\n"
     ]
    }
   ],
   "source": [
    "\"\"\"insteaf of having different attribute names its\n",
    "preferred to have all the 3  names same\"\"\"\n",
    "\n",
    "class Aot():\n",
    "    def __init__(self,aot_character):\n",
    "        self.aot_character = aot_character\n",
    "    def prnt(self):\n",
    "        print(f\"The aot character name is {self.aot_character}\")\n",
    "        \n",
    "        \n",
    "obj = Aot(aot_character = 'eren yeager')\n",
    "obj.prnt()"
   ]
  },
  {
   "cell_type": "markdown",
   "id": "73112594",
   "metadata": {},
   "source": [
    "##### defining attribute at the class object level \n",
    "- class object attribute "
   ]
  },
  {
   "cell_type": "code",
   "execution_count": 4,
   "id": "bc6b2053",
   "metadata": {},
   "outputs": [
    {
     "name": "stdout",
     "output_type": "stream",
     "text": [
      "The aot character name is eren yeager and belongs to Homo sapiens\n"
     ]
    }
   ],
   "source": [
    "class Aot():\n",
    "    # class object attribute\n",
    "    species = 'Homo sapiens'     \n",
    "    \n",
    "    def __init__(self,aot_character):\n",
    "        self.character = aot_character\n",
    "    def prnt(self):\n",
    "        print(f\"The aot character name is {self.character} and belongs to {Aot.species}\")\n",
    "        \n",
    "        \n",
    "obj = Aot(aot_character = 'eren yeager')\n",
    "obj.prnt()"
   ]
  },
  {
   "cell_type": "markdown",
   "id": "a4cd2c35",
   "metadata": {},
   "source": [
    "- since species is a class object attribute  to call it we need to use a instance method so we use Aot.species\n",
    "\n",
    "- we can use self.species but it more appropriate to use class name since it is a class attribute."
   ]
  },
  {
   "cell_type": "markdown",
   "id": "f9e57c92",
   "metadata": {},
   "source": [
    "### two objects for same class"
   ]
  },
  {
   "cell_type": "code",
   "execution_count": 5,
   "id": "82527b0e",
   "metadata": {},
   "outputs": [
    {
     "name": "stdout",
     "output_type": "stream",
     "text": [
      "Eren Yeager is a main protagonist in Attack on Titan and belongs to Homo sapiens\n",
      "Levi Ackerman is a captain in Attack on Titan and belongs to Homo sapiens\n"
     ]
    }
   ],
   "source": [
    "class AotCharacter:\n",
    "    # Class object attribute\n",
    "    species = 'Homo sapiens'\n",
    "    \n",
    "    def __init__(self, name, role):\n",
    "        self.name = name\n",
    "        self.role = role\n",
    "    \n",
    "    def display_info(self):\n",
    "        print(f\"{self.name} is a {self.role} in Attack on Titan and belongs to {AotCharacter.species}\")\n",
    "\n",
    "# Creating two objects of the class AotCharacter\n",
    "eren = AotCharacter(name='Eren Yeager', role='main protagonist')\n",
    "levi = AotCharacter(name='Levi Ackerman', role='captain')\n",
    "\n",
    "# Displaying information about the characters\n",
    "eren.display_info()\n",
    "levi.display_info()\n"
   ]
  }
 ],
 "metadata": {
  "kernelspec": {
   "display_name": "Python 3 (ipykernel)",
   "language": "python",
   "name": "python3"
  },
  "language_info": {
   "codemirror_mode": {
    "name": "ipython",
    "version": 3
   },
   "file_extension": ".py",
   "mimetype": "text/x-python",
   "name": "python",
   "nbconvert_exporter": "python",
   "pygments_lexer": "ipython3",
   "version": "3.9.13"
  }
 },
 "nbformat": 4,
 "nbformat_minor": 5
}
