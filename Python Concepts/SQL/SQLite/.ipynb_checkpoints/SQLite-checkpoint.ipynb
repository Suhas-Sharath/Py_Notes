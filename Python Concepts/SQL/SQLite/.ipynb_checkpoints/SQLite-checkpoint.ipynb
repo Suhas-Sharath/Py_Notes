{
 "cells": [
  {
   "cell_type": "markdown",
   "id": "3dcd2c3f",
   "metadata": {},
   "source": [
    "# SQLite 3"
   ]
  },
  {
   "cell_type": "markdown",
   "id": "e5f126ec",
   "metadata": {},
   "source": [
    "- lightweight embedded database\n",
    "- No separate server required\n",
    "- SQL support\n",
    "- ACID\n",
    "- Python Integration"
   ]
  },
  {
   "cell_type": "code",
   "execution_count": 1,
   "id": "360e8bbd",
   "metadata": {},
   "outputs": [],
   "source": [
    "# importing the sqlite \n",
    "import sqlite3"
   ]
  },
  {
   "cell_type": "code",
   "execution_count": 2,
   "id": "6a8094c6",
   "metadata": {},
   "outputs": [],
   "source": [
    "#creating and connecting to the database\n",
    "connection = sqlite3.connect(\"game.db\")"
   ]
  },
  {
   "cell_type": "code",
   "execution_count": 3,
   "id": "4e4b91af",
   "metadata": {},
   "outputs": [],
   "source": [
    "# to use the sql commands\n",
    "# cursor object is needed, it will help with the communication\n",
    "cursor = connection.cursor()"
   ]
  },
  {
   "cell_type": "code",
   "execution_count": 4,
   "id": "daf55190",
   "metadata": {},
   "outputs": [
    {
     "data": {
      "text/plain": [
       "<sqlite3.Cursor at 0x29c316cbab0>"
      ]
     },
     "execution_count": 4,
     "metadata": {},
     "output_type": "execute_result"
    }
   ],
   "source": [
    "#creating table \n",
    "# data types string = text, int = integer, float = real, binary = blob\n",
    "cursor.execute(\"CREATE TABLE game_data(release_year integer,release_name text)\")"
   ]
  },
  {
   "cell_type": "code",
   "execution_count": 5,
   "id": "c3e07f25",
   "metadata": {},
   "outputs": [],
   "source": [
    "# the db data\n",
    "game_list = [\n",
    "    (2003, \"Call of Duty\"),\n",
    "    (2005, \"Call of Duty 2\"),\n",
    "    (2006, \"Call of Duty 3\"),\n",
    "    (2007, \"Call of Duty 4: Modern Warfare\"),\n",
    "    (2008, \"Call of Duty: World at War\"),\n",
    "    (2009, \"Call of Duty: Modern Warfare 2\"),\n",
    "    (2010, \"Call of Duty: Black Ops\"),\n",
    "    (2011, \"Call of Duty: Modern Warfare 3\"),\n",
    "    (2012, \"Call of Duty: Black Ops II\"),\n",
    "    (2013, \"Call of Duty: Ghosts\"),\n",
    "    (2014, \"Call of Duty: Advanced Warfare\"),\n",
    "    (2015, \"Call of Duty: Black Ops III\"),\n",
    "    (2016, \"Call of Duty: Infinite Warfare\"),\n",
    "    (2017, \"Call of Duty: WWII\"),\n",
    "    (2018, \"Call of Duty: Black Ops 4\"),\n",
    "    (2019, \"Call of Duty: Modern Warfare\"),\n",
    "    (2020, \"Call of Duty: Black Ops Cold War\"),\n",
    "    (1994, \"The Need for Speed\"),\n",
    "    (1997, \"Need for Speed II\"),\n",
    "    (1998, \"Need for Speed III: Hot Pursuit\"),\n",
    "    (1999, \"Need for Speed: High Stakes\"),\n",
    "    (2000, \"Need for Speed: Porsche Unleashed\"),\n",
    "    (2002, \"Need for Speed: Hot Pursuit 2\"),\n",
    "    (2003, \"Need for Speed: Underground\"),\n",
    "    (2004, \"Need for Speed: Underground 2\"),\n",
    "    (2005, \"Need for Speed: Most Wanted\"),\n",
    "    (2006, \"Need for Speed: Carbon\"),\n",
    "    (2007, \"Need for Speed: ProStreet\"),\n",
    "    (2008, \"Need for Speed: Undercover\"),\n",
    "    (2009, \"Need for Speed: Shift\"),\n",
    "    (2010, \"Need for Speed: Hot Pursuit\"),\n",
    "    (2011, \"Need for Speed: Shift 2 - Unleashed\"),\n",
    "    (2012, \"Need for Speed: Most Wanted\"),\n",
    "    (2013, \"Need for Speed: Rivals\"),\n",
    "    (2015, \"Need for Speed\"),\n",
    "    (2017, \"Need for Speed Payback\"),\n",
    "    (2019, \"Need for Speed Heat\"),\n",
    "]"
   ]
  },
  {
   "cell_type": "code",
   "execution_count": 6,
   "id": "8a9b31a2",
   "metadata": {},
   "outputs": [
    {
     "data": {
      "text/plain": [
       "<sqlite3.Cursor at 0x29c316cbab0>"
      ]
     },
     "execution_count": 6,
     "metadata": {},
     "output_type": "execute_result"
    }
   ],
   "source": [
    "# to insert data to table \n",
    "cursor.executemany(\"insert into game_data values (?,?)\",game_list)  # ?- placeholders"
   ]
  },
  {
   "cell_type": "code",
   "execution_count": 7,
   "id": "f3a273b8",
   "metadata": {},
   "outputs": [
    {
     "name": "stdout",
     "output_type": "stream",
     "text": [
      "(2016, 'Call of Duty: Infinite Warfare')\n",
      "(2017, 'Call of Duty: WWII')\n",
      "(2018, 'Call of Duty: Black Ops 4')\n",
      "(2019, 'Call of Duty: Modern Warfare')\n",
      "(2020, 'Call of Duty: Black Ops Cold War')\n",
      "(2017, 'Need for Speed Payback')\n",
      "(2019, 'Need for Speed Heat')\n"
     ]
    }
   ],
   "source": [
    "#print database rows\n",
    "for row in cursor.execute(\"select * from game_data where release_year > 2015\"):\n",
    "    print(row)"
   ]
  },
  {
   "cell_type": "code",
   "execution_count": 8,
   "id": "386abf74",
   "metadata": {},
   "outputs": [
    {
     "name": "stdout",
     "output_type": "stream",
     "text": [
      "(2006, 'Call of Duty 3')\n",
      "(2007, 'Call of Duty 4: Modern Warfare')\n",
      "(2008, 'Call of Duty: World at War')\n",
      "(2009, 'Call of Duty: Modern Warfare 2')\n",
      "(2010, 'Call of Duty: Black Ops')\n",
      "(2011, 'Call of Duty: Modern Warfare 3')\n",
      "(2012, 'Call of Duty: Black Ops II')\n",
      "(2013, 'Call of Duty: Ghosts')\n",
      "(2014, 'Call of Duty: Advanced Warfare')\n",
      "(2006, 'Need for Speed: Carbon')\n",
      "(2007, 'Need for Speed: ProStreet')\n",
      "(2008, 'Need for Speed: Undercover')\n",
      "(2009, 'Need for Speed: Shift')\n",
      "(2010, 'Need for Speed: Hot Pursuit')\n",
      "(2011, 'Need for Speed: Shift 2 - Unleashed')\n",
      "(2012, 'Need for Speed: Most Wanted')\n",
      "(2013, 'Need for Speed: Rivals')\n"
     ]
    }
   ],
   "source": [
    "#print database rows\n",
    "for row in cursor.execute(\"select * from game_data where release_year > 2005 and release_year < 2015\"):\n",
    "    print(row)"
   ]
  },
  {
   "cell_type": "code",
   "execution_count": 9,
   "id": "3f074589",
   "metadata": {},
   "outputs": [
    {
     "name": "stdout",
     "output_type": "stream",
     "text": [
      "(2007, 'Call of Duty 4: Modern Warfare')\n",
      "(2009, 'Call of Duty: Modern Warfare 2')\n",
      "(2011, 'Call of Duty: Modern Warfare 3')\n",
      "(2014, 'Call of Duty: Advanced Warfare')\n",
      "(2016, 'Call of Duty: Infinite Warfare')\n",
      "(2019, 'Call of Duty: Modern Warfare')\n"
     ]
    }
   ],
   "source": [
    "cursor.execute(\"SELECT * from game_data where release_name LIKE '%Warfare%'\")\n",
    "l = cursor.fetchall()\n",
    "for i in l:\n",
    "    print(i)"
   ]
  },
  {
   "cell_type": "markdown",
   "id": "1e1ca31d",
   "metadata": {},
   "source": [
    "#### combining multiple tables "
   ]
  },
  {
   "cell_type": "code",
   "execution_count": 10,
   "id": "5b79158f",
   "metadata": {},
   "outputs": [
    {
     "data": {
      "text/plain": [
       "<sqlite3.Cursor at 0x29c316cbab0>"
      ]
     },
     "execution_count": 10,
     "metadata": {},
     "output_type": "execute_result"
    }
   ],
   "source": [
    "cursor.execute(\"CREATE TABLE game_rating(release_name text, rating real)\")"
   ]
  },
  {
   "cell_type": "code",
   "execution_count": 11,
   "id": "12ce33c7",
   "metadata": {},
   "outputs": [
    {
     "data": {
      "text/plain": [
       "<sqlite3.Cursor at 0x29c316cbab0>"
      ]
     },
     "execution_count": 11,
     "metadata": {},
     "output_type": "execute_result"
    }
   ],
   "source": [
    "game_rating = [\n",
    "    (\"Call of Duty\", 4.5),\n",
    "    (\"Call of Duty 2\", 4.3),\n",
    "    (\"Call of Duty 3\", 4.2),\n",
    "    (\"Call of Duty 4: Modern Warfare\", 4.6),\n",
    "    (\"Call of Duty: World at War\", 4.4),\n",
    "    (\"Call of Duty: Modern Warfare 2\", 4.7),\n",
    "    (\"Call of Duty: Black Ops\", 4.5),\n",
    "    (\"Call of Duty: Modern Warfare 3\", 4.6),\n",
    "    (\"Call of Duty: Black Ops II\", 4.7),\n",
    "    (\"Call of Duty: Ghosts\", 4.0),\n",
    "    (\"Call of Duty: Advanced Warfare\", 4.1),\n",
    "    (\"Call of Duty: Black Ops III\", 4.3),\n",
    "    (\"Call of Duty: Infinite Warfare\", 4.0),\n",
    "    (\"Call of Duty: WWII\", 4.4),\n",
    "    (\"Call of Duty: Black Ops 4\", 4.5),\n",
    "    (\"Call of Duty: Modern Warfare\", 4.6),\n",
    "    (\"Call of Duty: Black Ops Cold War\", 4.5),\n",
    "    (\"The Need for Speed\", 4.0),\n",
    "    (\"Need for Speed II\", 3.9),\n",
    "    (\"Need for Speed III: Hot Pursuit\", 4.1),\n",
    "    (\"Need for Speed: High Stakes\", 3.8),\n",
    "    (\"Need for Speed: Porsche Unleashed\", 4.0),\n",
    "    (\"Need for Speed: Hot Pursuit 2\", 4.2),\n",
    "    (\"Need for Speed: Underground\", 4.3),\n",
    "    (\"Need for Speed: Underground 2\", 4.4),\n",
    "    (\"Need for Speed: Most Wanted\", 4.5),\n",
    "    (\"Need for Speed: Carbon\", 4.3),\n",
    "    (\"Need for Speed: ProStreet\", 3.9),\n",
    "    (\"Need for Speed: Undercover\", 3.7),\n",
    "    (\"Need for Speed: Shift\", 4.0),\n",
    "    (\"Need for Speed: Hot Pursuit\", 4.2),\n",
    "    (\"Need for Speed: Shift 2 - Unleashed\", 4.1),\n",
    "    (\"Need for Speed: Most Wanted\", 4.5),\n",
    "    (\"Need for Speed: Rivals\", 4.3),\n",
    "    (\"Need for Speed\", 4.0),\n",
    "    (\"Need for Speed Payback\", 3.8),\n",
    "    (\"Need for Speed Heat\", 4.4)\n",
    "]\n",
    "\n",
    "cursor.executemany(\"INSERT into game_rating values (?,?)\", game_rating)"
   ]
  },
  {
   "cell_type": "code",
   "execution_count": 12,
   "id": "7c440221",
   "metadata": {},
   "outputs": [
    {
     "name": "stdout",
     "output_type": "stream",
     "text": [
      "(2009, 'Call of Duty: Modern Warfare 2', 4.7)\n",
      "(2012, 'Call of Duty: Black Ops II', 4.7)\n",
      "(2007, 'Call of Duty 4: Modern Warfare', 4.6)\n",
      "(2011, 'Call of Duty: Modern Warfare 3', 4.6)\n",
      "(2019, 'Call of Duty: Modern Warfare', 4.6)\n",
      "(2003, 'Call of Duty', 4.5)\n",
      "(2010, 'Call of Duty: Black Ops', 4.5)\n",
      "(2018, 'Call of Duty: Black Ops 4', 4.5)\n",
      "(2020, 'Call of Duty: Black Ops Cold War', 4.5)\n",
      "(2005, 'Need for Speed: Most Wanted', 4.5)\n",
      "(2005, 'Need for Speed: Most Wanted', 4.5)\n",
      "(2012, 'Need for Speed: Most Wanted', 4.5)\n",
      "(2012, 'Need for Speed: Most Wanted', 4.5)\n",
      "(2008, 'Call of Duty: World at War', 4.4)\n",
      "(2017, 'Call of Duty: WWII', 4.4)\n",
      "(2004, 'Need for Speed: Underground 2', 4.4)\n",
      "(2019, 'Need for Speed Heat', 4.4)\n",
      "(2005, 'Call of Duty 2', 4.3)\n",
      "(2015, 'Call of Duty: Black Ops III', 4.3)\n",
      "(2003, 'Need for Speed: Underground', 4.3)\n",
      "(2006, 'Need for Speed: Carbon', 4.3)\n",
      "(2013, 'Need for Speed: Rivals', 4.3)\n",
      "(2006, 'Call of Duty 3', 4.2)\n",
      "(2002, 'Need for Speed: Hot Pursuit 2', 4.2)\n",
      "(2010, 'Need for Speed: Hot Pursuit', 4.2)\n",
      "(2014, 'Call of Duty: Advanced Warfare', 4.1)\n",
      "(1998, 'Need for Speed III: Hot Pursuit', 4.1)\n",
      "(2011, 'Need for Speed: Shift 2 - Unleashed', 4.1)\n",
      "(2013, 'Call of Duty: Ghosts', 4.0)\n",
      "(2016, 'Call of Duty: Infinite Warfare', 4.0)\n",
      "(1994, 'The Need for Speed', 4.0)\n",
      "(2000, 'Need for Speed: Porsche Unleashed', 4.0)\n",
      "(2009, 'Need for Speed: Shift', 4.0)\n",
      "(2015, 'Need for Speed', 4.0)\n",
      "(1997, 'Need for Speed II', 3.9)\n",
      "(2007, 'Need for Speed: ProStreet', 3.9)\n",
      "(1999, 'Need for Speed: High Stakes', 3.8)\n",
      "(2017, 'Need for Speed Payback', 3.8)\n",
      "(2008, 'Need for Speed: Undercover', 3.7)\n"
     ]
    }
   ],
   "source": [
    "query = \"\"\"\n",
    "SELECT c.release_year,c.release_name,r.rating\n",
    "FROM game_data as c\n",
    "JOIN game_rating as r on c.release_name = r.release_name \n",
    "ORDER BY r.rating desc \"\"\"\n",
    "\n",
    "cursor.execute(query)\n",
    "for row in cursor.fetchall():\n",
    "    print(row)"
   ]
  },
  {
   "cell_type": "code",
   "execution_count": 13,
   "id": "5eb11ae7",
   "metadata": {},
   "outputs": [
    {
     "name": "stdout",
     "output_type": "stream",
     "text": [
      "(('release_name', None, None, None, None, None, None),)\n"
     ]
    }
   ],
   "source": [
    "# arratsize\n",
    "# DESCRIPTION  is an attribute of a cursor that provides information \n",
    "# about the columns in the result set of a query\n",
    "# EXECUTE is a method used to execute SQL queries on an SQLite database. It can be used\n",
    "#for queries that don't return results (e.g., INSERT, UPDATE, DELETE).\n",
    "\n",
    "cursor.arraysize = 7\n",
    "\n",
    "cursor.execute('SELECT release_name from game_data')\n",
    "\n",
    "print(cursor.description)"
   ]
  },
  {
   "cell_type": "markdown",
   "id": "61e86405",
   "metadata": {},
   "source": [
    "- Executescript is a method that can be used to execute multiple SQL statements separated by semicolons in a single call.\n",
    "- Fetchall is a method used to retrieve all rows from the result set of a query and returns them as a list of tuples.\n",
    "- Fetchmany is a method used to retrieve a specified number of rows from the result set of a query and returns them as a list of tuples.\n",
    "- Fetchnone is a method used to fetch the next row from the result set of a query as a tuple. It returns None when there are no more rows to fetch.\n",
    "- Lastrowid is an attribute that returns the row ID of the last inserted row.\n",
    "- Rowcount is an attribute that returns the number of rows affected by the last executed SQL statement\n"
   ]
  },
  {
   "cell_type": "code",
   "execution_count": 14,
   "id": "2acf4a6e",
   "metadata": {},
   "outputs": [],
   "source": [
    "# terminate the connection \n",
    "cursor.close()"
   ]
  }
 ],
 "metadata": {
  "kernelspec": {
   "display_name": "Python 3 (ipykernel)",
   "language": "python",
   "name": "python3"
  },
  "language_info": {
   "codemirror_mode": {
    "name": "ipython",
    "version": 3
   },
   "file_extension": ".py",
   "mimetype": "text/x-python",
   "name": "python",
   "nbconvert_exporter": "python",
   "pygments_lexer": "ipython3",
   "version": "3.9.13"
  }
 },
 "nbformat": 4,
 "nbformat_minor": 5
}
