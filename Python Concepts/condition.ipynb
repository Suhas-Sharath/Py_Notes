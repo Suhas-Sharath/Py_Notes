{
 "cells": [
  {
   "cell_type": "markdown",
   "id": "279d2142",
   "metadata": {},
   "source": [
    "# IF-ELSE"
   ]
  },
  {
   "cell_type": "code",
   "execution_count": 1,
   "id": "e2a23915",
   "metadata": {},
   "outputs": [
    {
     "name": "stdout",
     "output_type": "stream",
     "text": [
      "7 is lesser than 18\n"
     ]
    }
   ],
   "source": [
    "# single if statement\n",
    "x = 7\n",
    "y = 18\n",
    "\n",
    "if x < y:\n",
    "    print(f'{x} is lesser than {y}')"
   ]
  },
  {
   "cell_type": "code",
   "execution_count": 2,
   "id": "d9550daf",
   "metadata": {},
   "outputs": [
    {
     "name": "stdout",
     "output_type": "stream",
     "text": [
      "18 is greater than 7\n"
     ]
    }
   ],
   "source": [
    "# if-else statement \n",
    "x = 18 \n",
    "y = 7\n",
    "if x < y:\n",
    "    print(f'{x} is lesser than {y}')\n",
    "else:\n",
    "    print(f'{x} is greater than {y}')\n"
   ]
  },
  {
   "cell_type": "code",
   "execution_count": 3,
   "id": "9b5d53ec",
   "metadata": {},
   "outputs": [
    {
     "name": "stdout",
     "output_type": "stream",
     "text": [
      "7 is greater than 5 but not greater than 10\n"
     ]
    }
   ],
   "source": [
    "# elif statement\n",
    "x = 7\n",
    "\n",
    "if x > 10:\n",
    "    print(f\"{x} is greater than 10\")\n",
    "elif x > 5:\n",
    "    print(f\"{x} is greater than 5 but not greater than 10\")\n",
    "else:\n",
    "    print(f\"{x} is not greater than 5\")"
   ]
  },
  {
   "cell_type": "code",
   "execution_count": 4,
   "id": "7718b67f",
   "metadata": {},
   "outputs": [
    {
     "name": "stdout",
     "output_type": "stream",
     "text": [
      "x is greater than 10 and even\n"
     ]
    }
   ],
   "source": [
    "# nested if-else statement \n",
    "x = 18\n",
    "\n",
    "if x > 10:\n",
    "    if x % 2 == 0:\n",
    "        print(\"x is greater than 10 and even\")\n",
    "    else:\n",
    "        print(\"x is greater than 10 but not even\")\n",
    "else:\n",
    "    print(\"x is not greater than 10\")"
   ]
  }
 ],
 "metadata": {
  "kernelspec": {
   "display_name": "Python 3 (ipykernel)",
   "language": "python",
   "name": "python3"
  },
  "language_info": {
   "codemirror_mode": {
    "name": "ipython",
    "version": 3
   },
   "file_extension": ".py",
   "mimetype": "text/x-python",
   "name": "python",
   "nbconvert_exporter": "python",
   "pygments_lexer": "ipython3",
   "version": "3.9.13"
  }
 },
 "nbformat": 4,
 "nbformat_minor": 5
}
