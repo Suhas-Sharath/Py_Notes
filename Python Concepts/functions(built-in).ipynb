{
 "cells": [
  {
   "cell_type": "markdown",
   "id": "d4bc3b69",
   "metadata": {},
   "source": [
    "# MAP "
   ]
  },
  {
   "cell_type": "markdown",
   "id": "4f914c39",
   "metadata": {},
   "source": [
    "- built-in function that is used to apply a specified function to all items in an iterable"
   ]
  },
  {
   "cell_type": "code",
   "execution_count": 1,
   "id": "1570feb3",
   "metadata": {},
   "outputs": [
    {
     "name": "stdout",
     "output_type": "stream",
     "text": [
      "[1, 4, 9, 16, 25, 36]\n"
     ]
    }
   ],
   "source": [
    "# square of a number \n",
    "nums = [1,2,3,4,5,6]\n",
    "\n",
    "def square(num):\n",
    "    return num**2\n",
    "\n",
    "square_nums = list(map(square,nums))\n",
    "\n",
    "print(square_nums)"
   ]
  },
  {
   "cell_type": "code",
   "execution_count": 2,
   "id": "d5b58d10",
   "metadata": {},
   "outputs": [
    {
     "name": "stdout",
     "output_type": "stream",
     "text": [
      "['apple', 'banana', 'orange', 'grape']\n"
     ]
    }
   ],
   "source": [
    "# map with more complex functions \n",
    "# clearing the spaces between elements \n",
    "\n",
    "data = [\"   apple  \", \" banana  \", \"orange   \", \"  grape   \"]\n",
    "clean_data = map(str.strip, data)\n",
    "result_list = list(clean_data)\n",
    "print(result_list)\n"
   ]
  },
  {
   "cell_type": "markdown",
   "id": "26d3bc13",
   "metadata": {},
   "source": [
    "NOTE :\n",
    "\n",
    "we dont need to call the function inside the map, as it done by map itself."
   ]
  },
  {
   "cell_type": "markdown",
   "id": "d74757b1",
   "metadata": {},
   "source": [
    "# FILTER \n",
    "- does the same thing as map but with a condition "
   ]
  },
  {
   "cell_type": "code",
   "execution_count": 3,
   "id": "01c09a9e",
   "metadata": {},
   "outputs": [
    {
     "data": {
      "text/plain": [
       "[2, 4, 6, 8, 10]"
      ]
     },
     "execution_count": 3,
     "metadata": {},
     "output_type": "execute_result"
    }
   ],
   "source": [
    "def even_nums_only(num):\n",
    "    return num%2 == 0\n",
    "\n",
    "nums = [1,2,3,4,5,6,7,8,9,10]\n",
    "\n",
    "even_nums = list(filter(even_nums_only,nums))\n",
    "even_nums"
   ]
  },
  {
   "cell_type": "code",
   "execution_count": 4,
   "id": "54706c08",
   "metadata": {},
   "outputs": [
    {
     "name": "stdout",
     "output_type": "stream",
     "text": [
      "[4, 16, 36, 64, 100]\n"
     ]
    }
   ],
   "source": [
    "# using both filter and map together \n",
    "\n",
    "nums = [1,2,3,4,5,6,7,8,9,10]\n",
    "\n",
    "def even_nums_only(num):\n",
    "    return num%2 == 0\n",
    "\n",
    "def square(num):\n",
    "    return num**2\n",
    "\n",
    "final_nums = list(map(square,filter(even_nums_only,nums)))\n",
    "\n",
    "print(final_nums)"
   ]
  },
  {
   "cell_type": "markdown",
   "id": "697d9e59",
   "metadata": {},
   "source": [
    "# LAMBDA \n",
    "\n",
    "### lambda arguments: expression"
   ]
  },
  {
   "cell_type": "code",
   "execution_count": 5,
   "id": "86dda0b1",
   "metadata": {},
   "outputs": [
    {
     "name": "stdout",
     "output_type": "stream",
     "text": [
      "square of 10 is 100\n",
      "square is 25\n"
     ]
    }
   ],
   "source": [
    "# example code \n",
    "\n",
    "def sqr(num):\n",
    "    print(f'square of {num} is {num**2}')\n",
    "sqr(10)\n",
    "\n",
    "# same function but using lambda \n",
    "square = lambda x: x**2\n",
    "print(f'square is {square(5)}')  # Output: 25\n",
    "    "
   ]
  },
  {
   "cell_type": "code",
   "execution_count": 6,
   "id": "37182871",
   "metadata": {},
   "outputs": [
    {
     "name": "stdout",
     "output_type": "stream",
     "text": [
      "[1, 4, 9, 16, 25]\n"
     ]
    }
   ],
   "source": [
    "# lambda with map function \n",
    "numbers = [1, 2, 3, 4, 5]\n",
    "squared_numbers = map(lambda x: x**2, numbers)\n",
    "print(list(squared_numbers))  # Output: [1, 4, 9, 16, 25]"
   ]
  },
  {
   "cell_type": "code",
   "execution_count": 7,
   "id": "8fc59bec",
   "metadata": {},
   "outputs": [
    {
     "name": "stdout",
     "output_type": "stream",
     "text": [
      "[2, 4, 6, 8, 10]\n"
     ]
    }
   ],
   "source": [
    "# lambda with filter function \n",
    "numbers = [1, 2, 3, 4, 5, 6, 7, 8, 9, 10]\n",
    "even_numbers = filter(lambda x: x % 2 == 0, numbers)\n",
    "print(list(even_numbers))  # Output: [2, 4, 6, 8, 10]"
   ]
  },
  {
   "cell_type": "code",
   "execution_count": 8,
   "id": "aeeadad7",
   "metadata": {},
   "outputs": [
    {
     "name": "stdout",
     "output_type": "stream",
     "text": [
      "[4, 16, 36, 64, 100]\n"
     ]
    }
   ],
   "source": [
    "# using lambda,map and filter together \n",
    "nums = [1, 2, 3, 4, 5, 6, 7, 8, 9, 10]\n",
    "\n",
    "# Use lambda functions for even_nums_only and square\n",
    "even_nums_only = lambda x: x % 2 == 0\n",
    "square = lambda x: x ** 2\n",
    "\n",
    "# Apply map and filter using lambda functions\n",
    "final_nums = list(map(square, filter(even_nums_only, nums)))\n",
    "\n",
    "print(final_nums)\n",
    "\n"
   ]
  },
  {
   "cell_type": "markdown",
   "id": "6c52e254",
   "metadata": {},
   "source": [
    "# SORTED \n",
    "- sorted(iterable, key=None, reverse=False)"
   ]
  },
  {
   "cell_type": "code",
   "execution_count": 9,
   "id": "e1a3aa11",
   "metadata": {},
   "outputs": [
    {
     "name": "stdout",
     "output_type": "stream",
     "text": [
      "[1, 2, 4, 7, 9]\n"
     ]
    }
   ],
   "source": [
    "# sorting list in ascending order\n",
    "numbers = [4, 2, 7, 1, 9]\n",
    "sorted_numbers = sorted(numbers)\n",
    "print(sorted_numbers)"
   ]
  },
  {
   "cell_type": "code",
   "execution_count": 10,
   "id": "6c56098b",
   "metadata": {},
   "outputs": [
    {
     "name": "stdout",
     "output_type": "stream",
     "text": [
      "[9, 7, 4, 2, 1]\n"
     ]
    }
   ],
   "source": [
    "# sorting list in descending order\n",
    "numbers = [4, 2, 7, 1, 9]\n",
    "sorted_numbers_desc = sorted(numbers, reverse=True)\n",
    "print(sorted_numbers_desc)"
   ]
  },
  {
   "cell_type": "code",
   "execution_count": 11,
   "id": "bc6a88e4",
   "metadata": {},
   "outputs": [
    {
     "name": "stdout",
     "output_type": "stream",
     "text": [
      "['kiwi', 'apple', 'banana', 'orange']\n"
     ]
    }
   ],
   "source": [
    "# based on length\n",
    "words = [\"apple\", \"banana\", \"kiwi\", \"orange\"]\n",
    "sorted_words = sorted(words, key=len)          # key takes the funtion \n",
    "print(sorted_words)"
   ]
  },
  {
   "cell_type": "markdown",
   "id": "e67c1e8b",
   "metadata": {},
   "source": [
    "NOTE :\n",
    "- sort() and sorted() are not the same \n",
    "- sorted() does not modify the original list\n",
    "- sort() does modify the original list\n"
   ]
  },
  {
   "cell_type": "markdown",
   "id": "26abe195",
   "metadata": {},
   "source": [
    "# MIN AND MAX"
   ]
  },
  {
   "cell_type": "code",
   "execution_count": 12,
   "id": "120efc74",
   "metadata": {},
   "outputs": [
    {
     "name": "stdout",
     "output_type": "stream",
     "text": [
      "MAX_VALUE = 9 and MIN_VALUE =  1\n"
     ]
    }
   ],
   "source": [
    "numbers = [3, 1, 4, 1, 5, 9, 2]\n",
    "max_value = max(numbers)\n",
    "min_value = min(numbers)\n",
    "print(f'MAX_VALUE = {max_value} and MIN_VALUE =  {min_value}')  "
   ]
  },
  {
   "cell_type": "markdown",
   "id": "201e9de8",
   "metadata": {},
   "source": [
    "# SLICE"
   ]
  },
  {
   "cell_type": "code",
   "execution_count": 13,
   "id": "22f4f439",
   "metadata": {},
   "outputs": [
    {
     "name": "stdout",
     "output_type": "stream",
     "text": [
      "[2, 4]\n"
     ]
    }
   ],
   "source": [
    "numbers = [1, 2, 3, 4, 5]\n",
    "sliced_numbers = numbers[slice(1, 4, 2)]\n",
    "print(sliced_numbers)  "
   ]
  },
  {
   "cell_type": "markdown",
   "id": "6b1e0a83",
   "metadata": {},
   "source": [
    "# ABS"
   ]
  },
  {
   "cell_type": "code",
   "execution_count": 14,
   "id": "c5b024d7",
   "metadata": {},
   "outputs": [
    {
     "name": "stdout",
     "output_type": "stream",
     "text": [
      "10\n"
     ]
    }
   ],
   "source": [
    "result = abs(-10)\n",
    "print(result)  "
   ]
  },
  {
   "cell_type": "markdown",
   "id": "7eef875b",
   "metadata": {},
   "source": [
    "# ROUND"
   ]
  },
  {
   "cell_type": "code",
   "execution_count": 15,
   "id": "0659b255",
   "metadata": {},
   "outputs": [
    {
     "name": "stdout",
     "output_type": "stream",
     "text": [
      "3.14\n"
     ]
    }
   ],
   "source": [
    "rounded_number = round(3.14159, 2)\n",
    "print(rounded_number) "
   ]
  },
  {
   "cell_type": "markdown",
   "id": "1da9834e",
   "metadata": {},
   "source": [
    "# SUM"
   ]
  },
  {
   "cell_type": "code",
   "execution_count": 16,
   "id": "6c04ec57",
   "metadata": {},
   "outputs": [
    {
     "name": "stdout",
     "output_type": "stream",
     "text": [
      "25\n"
     ]
    }
   ],
   "source": [
    "# sum with start parameter(we know the basic)\n",
    "numbers = [1, 2, 3, 4, 5]\n",
    "total = sum(numbers, start=10)\n",
    "print(total)  # (10 + 1 + 2 + 3 + 4 + 5)"
   ]
  },
  {
   "cell_type": "markdown",
   "id": "8f01f5cf",
   "metadata": {},
   "source": [
    "# CHAR and ORD\n",
    "- chr(i) returns the unicode code point of an integer\n",
    "- ord returns vice-versa"
   ]
  },
  {
   "cell_type": "code",
   "execution_count": 17,
   "id": "445602e8",
   "metadata": {},
   "outputs": [
    {
     "name": "stdout",
     "output_type": "stream",
     "text": [
      "A\n",
      "83\n"
     ]
    }
   ],
   "source": [
    "char = chr(65)\n",
    "print(char)  \n",
    "\n",
    "code_point = ord('S')\n",
    "print(code_point)  \n"
   ]
  },
  {
   "cell_type": "markdown",
   "id": "069d48df",
   "metadata": {},
   "source": [
    "# ANY and ALL\n",
    "- any - any one true final answer True\n",
    "- all - all elements should should be True else False"
   ]
  },
  {
   "cell_type": "code",
   "execution_count": 18,
   "id": "5b38447f",
   "metadata": {},
   "outputs": [
    {
     "name": "stdout",
     "output_type": "stream",
     "text": [
      "True False\n"
     ]
    }
   ],
   "source": [
    "values = [True, False, True, True]\n",
    "any_result = any(values)\n",
    "all_result = all(values)\n",
    "print(any_result, all_result)"
   ]
  },
  {
   "cell_type": "markdown",
   "id": "9a7c022e",
   "metadata": {},
   "source": [
    "# ENUMERATE() - ENUM"
   ]
  },
  {
   "cell_type": "code",
   "execution_count": 19,
   "id": "c0dd4d5c",
   "metadata": {},
   "outputs": [
    {
     "name": "stdout",
     "output_type": "stream",
     "text": [
      "1 100\n",
      "2 200\n",
      "3 300\n"
     ]
    }
   ],
   "source": [
    "fruits = [100,200,300]\n",
    "for index, value in enumerate(fruits, start=1):\n",
    "    print(index, value)"
   ]
  },
  {
   "cell_type": "markdown",
   "id": "398dd992",
   "metadata": {},
   "source": [
    "# REVERSED "
   ]
  },
  {
   "cell_type": "code",
   "execution_count": 20,
   "id": "d4cbdaa1",
   "metadata": {},
   "outputs": [
    {
     "name": "stdout",
     "output_type": "stream",
     "text": [
      "['c', 'b', 'a']\n"
     ]
    }
   ],
   "source": [
    "letters = ['a', 'b', 'c']\n",
    "reversed_letters = reversed(letters)\n",
    "print(list(reversed_letters)) "
   ]
  },
  {
   "cell_type": "markdown",
   "id": "7514f42b",
   "metadata": {},
   "source": [
    "# ZIP"
   ]
  },
  {
   "cell_type": "code",
   "execution_count": 21,
   "id": "79bc7f4c",
   "metadata": {},
   "outputs": [
    {
     "name": "stdout",
     "output_type": "stream",
     "text": [
      "('A', 'B', 'C') (25, 24, 23)\n"
     ]
    }
   ],
   "source": [
    "names = ['A', 'B', 'C']\n",
    "ages = [25, 24, 23]\n",
    "zipped_data = zip(names, ages)\n",
    "unpacked_names, unpacked_ages = zip(*zipped_data)\n",
    "print(unpacked_names, unpacked_ages)  "
   ]
  }
 ],
 "metadata": {
  "kernelspec": {
   "display_name": "Python 3 (ipykernel)",
   "language": "python",
   "name": "python3"
  },
  "language_info": {
   "codemirror_mode": {
    "name": "ipython",
    "version": 3
   },
   "file_extension": ".py",
   "mimetype": "text/x-python",
   "name": "python",
   "nbconvert_exporter": "python",
   "pygments_lexer": "ipython3",
   "version": "3.9.13"
  }
 },
 "nbformat": 4,
 "nbformat_minor": 5
}
