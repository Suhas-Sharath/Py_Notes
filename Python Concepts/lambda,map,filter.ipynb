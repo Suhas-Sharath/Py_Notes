{
 "cells": [
  {
   "cell_type": "markdown",
   "id": "906ab255",
   "metadata": {},
   "source": [
    "# lambda"
   ]
  },
  {
   "cell_type": "code",
   "execution_count": 1,
   "id": "9917e5c4",
   "metadata": {},
   "outputs": [
    {
     "name": "stdout",
     "output_type": "stream",
     "text": [
      "6\n"
     ]
    }
   ],
   "source": [
    "# similar to that of a function but in a single line \n",
    "\n",
    "def prt(a,b):\n",
    "    return a + b\n",
    "\n",
    "print(prt(a=1,b=5))"
   ]
  },
  {
   "cell_type": "code",
   "execution_count": 2,
   "id": "d75462e4",
   "metadata": {},
   "outputs": [
    {
     "name": "stdout",
     "output_type": "stream",
     "text": [
      "6\n",
      "30\n"
     ]
    }
   ],
   "source": [
    "add = lambda a,b: a + b\n",
    "\n",
    "print(add(1,5))\n",
    "\n",
    "# or use like this \n",
    "\n",
    "\n",
    "\n",
    "print((lambda a,b : a  + b) (10,20))"
   ]
  },
  {
   "cell_type": "code",
   "execution_count": 3,
   "id": "4140fc70",
   "metadata": {},
   "outputs": [],
   "source": [
    "# using lambda to do a smaller tasks\n",
    "# instead of a creating a function for them "
   ]
  },
  {
   "cell_type": "code",
   "execution_count": 4,
   "id": "812b8fb1",
   "metadata": {},
   "outputs": [
    {
     "name": "stdout",
     "output_type": "stream",
     "text": [
      "[19, 18, 17, 20, 15]\n"
     ]
    }
   ],
   "source": [
    "# add 10 to each of the elements inside a list \n",
    "\n",
    "def do_stuff(my_func,nums):\n",
    "    res = []\n",
    "    \n",
    "    for num in nums:\n",
    "        new_res = my_func(num)\n",
    "        res.append(new_res)\n",
    "    return res\n",
    "\n",
    "nums = [9,8,7,10,5]\n",
    "\n",
    "add_res = do_stuff(lambda x: x + 10, nums)\n",
    "\n",
    "print(add_res)"
   ]
  },
  {
   "cell_type": "markdown",
   "id": "3acbbf3f",
   "metadata": {},
   "source": [
    "# map"
   ]
  },
  {
   "cell_type": "code",
   "execution_count": 5,
   "id": "06aa396f",
   "metadata": {},
   "outputs": [
    {
     "name": "stdout",
     "output_type": "stream",
     "text": [
      "['YOU', 'DONT', ' GET', 'OTHER', 'CHANCE.', ' LIFE', ' IS', ' NO', ' NINTENDO', ' GAME']\n"
     ]
    }
   ],
   "source": [
    "# basically iterate through all the elements (for loop)\n",
    "\n",
    "def my_func(word):\n",
    "    return word.upper()\n",
    "\n",
    "words = ('You', 'dont',' get','other','chance.',' Life',' is',' no',' Nintendo',' game')\n",
    "print(list(map(my_func,words)))\n"
   ]
  },
  {
   "cell_type": "code",
   "execution_count": 6,
   "id": "efab3c85",
   "metadata": {},
   "outputs": [
    {
     "name": "stdout",
     "output_type": "stream",
     "text": [
      "[10, 26, 13, 25, 47, 10]\n"
     ]
    }
   ],
   "source": [
    "def complex_conversion(string_number):\n",
    "    if string_number.startswith(\"0x\"):\n",
    "        # Convert hexadecimal to decimal\n",
    "        return int(string_number, 16)\n",
    "    elif string_number.startswith(\"0b\"):\n",
    "        # Convert binary to decimal\n",
    "        return int(string_number, 2)\n",
    "    else:\n",
    "        # Convert regular decimal numbers\n",
    "        return int(string_number)\n",
    "\n",
    "# List of strings with different number formats\n",
    "numbers = [\"10\", \"0x1A\", \"0b1101\", \"25\", \"0x2F\", \"0b1010\"]\n",
    "\n",
    "# Use map to apply the complex_conversion function to each element in the list\n",
    "converted_numbers = list(map(complex_conversion, numbers))\n",
    "\n",
    "print(converted_numbers)"
   ]
  },
  {
   "cell_type": "markdown",
   "id": "902d77ce",
   "metadata": {},
   "source": [
    "# filter"
   ]
  },
  {
   "cell_type": "code",
   "execution_count": 7,
   "id": "be704215",
   "metadata": {},
   "outputs": [
    {
     "name": "stdout",
     "output_type": "stream",
     "text": [
      "['ZORO']\n"
     ]
    }
   ],
   "source": [
    "# filter the items by passing through a function \n",
    "# accpet or reject usage \n",
    "\n",
    "def my_func(word):\n",
    "    return word if word.upper() == word else False\n",
    "\n",
    "words = ('shadow','ZORO','luffy')\n",
    "\n",
    "print(list(filter(my_func,words)))"
   ]
  },
  {
   "cell_type": "code",
   "execution_count": 8,
   "id": "9acb233e",
   "metadata": {},
   "outputs": [
    {
     "name": "stdout",
     "output_type": "stream",
     "text": [
      "[23, 31, 37]\n"
     ]
    }
   ],
   "source": [
    "def is_prime(num):\n",
    "    if num < 2:\n",
    "        return False\n",
    "    for i in range(2, int(num**0.5) + 1):\n",
    "        if num % i == 0:\n",
    "            return False\n",
    "    return True\n",
    "\n",
    "# List of numbers\n",
    "numbers = [7, 12, 15, 18, 23, 28, 31, 37]\n",
    "\n",
    "# Use filter to get prime numbers greater than 10\n",
    "filtered_primes = list(filter(lambda x: is_prime(x) and x > 10, numbers))\n",
    "\n",
    "print(filtered_primes)\n"
   ]
  }
 ],
 "metadata": {
  "kernelspec": {
   "display_name": "Python 3 (ipykernel)",
   "language": "python",
   "name": "python3"
  },
  "language_info": {
   "codemirror_mode": {
    "name": "ipython",
    "version": 3
   },
   "file_extension": ".py",
   "mimetype": "text/x-python",
   "name": "python",
   "nbconvert_exporter": "python",
   "pygments_lexer": "ipython3",
   "version": "3.9.13"
  }
 },
 "nbformat": 4,
 "nbformat_minor": 5
}
