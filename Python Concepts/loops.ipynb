{
 "cells": [
  {
   "cell_type": "markdown",
   "id": "f1502be9",
   "metadata": {},
   "source": [
    "# LOOPS"
   ]
  },
  {
   "cell_type": "markdown",
   "id": "e5439478",
   "metadata": {},
   "source": [
    "### for loops"
   ]
  },
  {
   "cell_type": "code",
   "execution_count": 1,
   "id": "8d999b2a",
   "metadata": {},
   "outputs": [
    {
     "name": "stdout",
     "output_type": "stream",
     "text": [
      "Characters in string:\n",
      "S\n",
      "h\n",
      "a\n",
      "d\n",
      "o\n",
      "w\n",
      "!\n",
      "====================\n",
      "Numbers in list:\n",
      "1\n",
      "2\n",
      "3\n",
      "4\n",
      "5\n",
      "====================\n",
      "Key-value pairs in dictionary:\n",
      "a = 1\n",
      "b = 2\n",
      "c = 3\n"
     ]
    }
   ],
   "source": [
    "# For loop with a string\n",
    "string_example = \"Shadow!\"\n",
    "print(\"Characters in string:\")\n",
    "for char in string_example:\n",
    "    print(char)\n",
    "\n",
    "print(\"=\" * 20)\n",
    "\n",
    "# For loop with a list\n",
    "list_example = [1, 2, 3, 4, 5]\n",
    "print(\"Numbers in list:\")\n",
    "for num in list_example:\n",
    "    print(num)\n",
    "\n",
    "print(\"=\" * 20)\n",
    "\n",
    "# For loop with a dictionary\n",
    "dict_example = {'a': 1, 'b': 2, 'c': 3}\n",
    "print(\"Key-value pairs in dictionary:\")\n",
    "for key, value in dict_example.items():\n",
    "    print(key,'=',value)\n"
   ]
  },
  {
   "cell_type": "code",
   "execution_count": 2,
   "id": "441b5f43",
   "metadata": {},
   "outputs": [
    {
     "name": "stdout",
     "output_type": "stream",
     "text": [
      "1 a\n",
      "2 b\n",
      "3 c\n"
     ]
    }
   ],
   "source": [
    "# for loop have a function know as zip()\n",
    "# it can iterate over two lists in parallel\n",
    "a = [1,2,3]\n",
    "b = ['a','b','c']\n",
    "\n",
    "for i,j in zip(a,b):\n",
    "    print(i,j)"
   ]
  },
  {
   "cell_type": "code",
   "execution_count": 3,
   "id": "c732d6d0",
   "metadata": {},
   "outputs": [
    {
     "name": "stdout",
     "output_type": "stream",
     "text": [
      "0 zero\n",
      "1 one\n",
      "2 two\n",
      "3 three\n"
     ]
    }
   ],
   "source": [
    "# python enumerate() will print index number along with the value\n",
    "\n",
    "for key, value in enumerate(['zero', 'one', 'two', 'three']):\n",
    "\tprint(key, value)\n"
   ]
  },
  {
   "cell_type": "code",
   "execution_count": 4,
   "id": "94c4089e",
   "metadata": {},
   "outputs": [
    {
     "name": "stdout",
     "output_type": "stream",
     "text": [
      "1\n",
      "2\n",
      "Found 3! Breaking the loop.\n",
      "======================================\n",
      "1\n",
      "2\n",
      "4\n",
      "5\n",
      "Loop completed without encountering a break.\n"
     ]
    },
    {
     "data": {
      "text/plain": [
       "'if the for loop completes all the iteration then only the else statement is executed\\n(case-2) or else if the for is interupted in the middle it wont be executed(case-1)\\n'"
      ]
     },
     "execution_count": 4,
     "metadata": {},
     "output_type": "execute_result"
    }
   ],
   "source": [
    "# using else in for loop\n",
    "\n",
    "def num(numbers):\n",
    "    for num in numbers:\n",
    "        if num == 3:\n",
    "            print(\"Found 3! Breaking the loop.\")\n",
    "            break\n",
    "        print(num)\n",
    "    else:\n",
    "        print(\"Loop completed without encountering a break.\")\n",
    "#case -1 (num == 3)\n",
    "numbers = [1, 2, 3, 4, 5]\n",
    "num(numbers)\n",
    "print('======================================')\n",
    "#case - 2 (removed 3 from the list)\n",
    "numbers = [1, 2, 4, 5]\n",
    "num(numbers)\n",
    "\"\"\"if the for loop completes all the iteration then only the else statement is executed\n",
    "(case-2) or else if the for is interupted in the middle it wont be executed(case-1)\n",
    "\"\"\""
   ]
  },
  {
   "cell_type": "markdown",
   "id": "42efc58b",
   "metadata": {},
   "source": [
    "### while loop"
   ]
  },
  {
   "attachments": {
    "download.jpeg": {
     "image/jpeg": "[encoded data removed]"
    }
   },
   "cell_type": "markdown",
   "id": "c2fb9a6e",
   "metadata": {},
   "source": [
    "![download.jpeg](attachment:download.jpeg)"
   ]
  },
  {
   "cell_type": "code",
   "execution_count": 5,
   "id": "74606a03",
   "metadata": {},
   "outputs": [
    {
     "name": "stdout",
     "output_type": "stream",
     "text": [
      "1\n",
      "2\n",
      "3\n",
      "4\n"
     ]
    }
   ],
   "source": [
    "l = [1,2,3,4]\n",
    "i = 0\n",
    "while i < len(l):\n",
    "    print(l[i])\n",
    "    i += 1"
   ]
  },
  {
   "cell_type": "markdown",
   "id": "4c786f8a",
   "metadata": {},
   "source": [
    "### BREAK"
   ]
  },
  {
   "cell_type": "code",
   "execution_count": 6,
   "id": "e72b34f8",
   "metadata": {},
   "outputs": [
    {
     "name": "stdout",
     "output_type": "stream",
     "text": [
      "1  2  "
     ]
    }
   ],
   "source": [
    "numbers = [1, 2, 3, 4, 5]\n",
    "\n",
    "for i in numbers:\n",
    "    if i == 3:\n",
    "        break\n",
    "    else:\n",
    "        print(i,end = '  ')\n"
   ]
  },
  {
   "cell_type": "markdown",
   "id": "14c99486",
   "metadata": {},
   "source": [
    "### CONTINUE"
   ]
  },
  {
   "cell_type": "code",
   "execution_count": 7,
   "id": "8032ed09",
   "metadata": {},
   "outputs": [
    {
     "name": "stdout",
     "output_type": "stream",
     "text": [
      "1  2  4  5  "
     ]
    }
   ],
   "source": [
    "numbers = [1,2,3,4,5]\n",
    "\n",
    "for i in numbers:\n",
    "    if i == 3:\n",
    "        continue\n",
    "    else:\n",
    "        print(i,end = '  ')"
   ]
  },
  {
   "cell_type": "markdown",
   "id": "8af7d033",
   "metadata": {},
   "source": [
    "### PASS"
   ]
  },
  {
   "cell_type": "code",
   "execution_count": 8,
   "id": "bbe2c8ed",
   "metadata": {},
   "outputs": [
    {
     "name": "stdout",
     "output_type": "stream",
     "text": [
      "2  4  5  "
     ]
    }
   ],
   "source": [
    "numbers = [1,2,3,4,5]\n",
    "\n",
    "for i in numbers:\n",
    "    if i in [1,3]:\n",
    "        pass\n",
    "    else:\n",
    "        print(i,end = '  ')"
   ]
  },
  {
   "cell_type": "markdown",
   "id": "93ba5435",
   "metadata": {},
   "source": [
    "#### LIST COMPREHENSION"
   ]
  },
  {
   "cell_type": "code",
   "execution_count": 9,
   "id": "ec5b59f9",
   "metadata": {},
   "outputs": [
    {
     "name": "stdout",
     "output_type": "stream",
     "text": [
      "['a', 'b', 'c', 'd', 'e', 'f']\n",
      "['a', 'b', 'c', 'd', 'e', 'f']\n",
      "[0, 1, 4, 9, 16, 25, 36, 49, 64, 81, 100]\n"
     ]
    }
   ],
   "source": [
    "# more readable and compact syntax for creating lists compared to traditional for loops\n",
    "word = 'abcdef'\n",
    "\n",
    "# traditional method \n",
    "lst = []\n",
    "for i in word:\n",
    "    lst.append(i)\n",
    "print(lst)\n",
    "\n",
    "\n",
    "# list comprehension \n",
    "\n",
    "lists = [letter for letter in word]\n",
    "print(lists)\n",
    "\n",
    "# for squares \n",
    "sqrs = [num**2 for num in range(0,11)]\n",
    "print(sqrs)"
   ]
  },
  {
   "cell_type": "code",
   "execution_count": 10,
   "id": "2f1068b0",
   "metadata": {},
   "outputs": [
    {
     "name": "stdout",
     "output_type": "stream",
     "text": [
      "[4, 16]\n"
     ]
    }
   ],
   "source": [
    "# using if condition \n",
    "# Using a list comprehension to create a list of even squares\n",
    "even_squares = [x**2 for x in range(1, 6) if x % 2 == 0]\n",
    "print(even_squares)"
   ]
  },
  {
   "cell_type": "code",
   "execution_count": 11,
   "id": "9c2618ee",
   "metadata": {},
   "outputs": [
    {
     "name": "stdout",
     "output_type": "stream",
     "text": [
      "[0, 'odd', 2, 'odd', 4, 'odd', 6, 'odd', 8, 'odd', 10]\n"
     ]
    }
   ],
   "source": [
    "# using if-else condition\n",
    "# Using a conditional expression in the expression part\n",
    "even_or_odd = [x if x % 2 == 0 else 'odd' for x in range(0, 11)]\n",
    "print(even_or_odd)"
   ]
  },
  {
   "cell_type": "code",
   "execution_count": 12,
   "id": "91f2c5c1",
   "metadata": {},
   "outputs": [],
   "source": [
    "## nested loop \n",
    "nums = [x*y for x in [2,4,6] for y in [1,10,100]]"
   ]
  },
  {
   "cell_type": "code",
   "execution_count": 13,
   "id": "71870fbe",
   "metadata": {},
   "outputs": [
    {
     "data": {
      "text/plain": [
       "[2, 20, 200, 4, 40, 400, 6, 60, 600]"
      ]
     },
     "execution_count": 13,
     "metadata": {},
     "output_type": "execute_result"
    }
   ],
   "source": [
    "nums"
   ]
  }
 ],
 "metadata": {
  "kernelspec": {
   "display_name": "Python 3 (ipykernel)",
   "language": "python",
   "name": "python3"
  },
  "language_info": {
   "codemirror_mode": {
    "name": "ipython",
    "version": 3
   },
   "file_extension": ".py",
   "mimetype": "text/x-python",
   "name": "python",
   "nbconvert_exporter": "python",
   "pygments_lexer": "ipython3",
   "version": "3.9.13"
  }
 },
 "nbformat": 4,
 "nbformat_minor": 5
}
