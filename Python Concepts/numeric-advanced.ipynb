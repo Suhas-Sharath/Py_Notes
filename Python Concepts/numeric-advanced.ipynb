{
 "cells": [
  {
   "cell_type": "code",
   "execution_count": 1,
   "id": "245e1bc6",
   "metadata": {},
   "outputs": [
    {
     "name": "stdout",
     "output_type": "stream",
     "text": [
      "Hexadecimal representation: 0xff\n",
      "Decimal representation: 255\n",
      "Binary representation: 0b1111\n",
      "2 raised to the power of 3 is: 8\n",
      "2 raised to the power of 3 using pow is: 8\n",
      "2 raised to the power of 3 modulo 5 is: 3\n",
      "The absolute value of -7 is: 7\n",
      "The rounded value of 3.14159 is: 3.14\n"
     ]
    }
   ],
   "source": [
    "# Integer to Hexadecimal\n",
    "decimal_number = 255\n",
    "hex_value = hex(decimal_number)\n",
    "print(f\"Hexadecimal representation: {hex_value}\")\n",
    "\n",
    "# Hexadecimal to Integer\n",
    "hex_value = '0xff'\n",
    "decimal_number = int(hex_value, 16)\n",
    "print(f\"Decimal representation: {decimal_number}\")\n",
    "\n",
    "# Integer to Binary\n",
    "decimal_number = 15\n",
    "binary_value = bin(decimal_number)\n",
    "print(f\"Binary representation: {binary_value}\")\n",
    "\n",
    "# Exponentiation\n",
    "base = 2\n",
    "exponent = 3\n",
    "result = base ** exponent\n",
    "print(f\"{base} raised to the power of {exponent} is: {result}\")\n",
    "\n",
    "# Using pow for exponentiation\n",
    "result_pow = pow(base, exponent)\n",
    "print(f\"{base} raised to the power of {exponent} using pow is: {result_pow}\")\n",
    "\n",
    "# Using pow with modulo\n",
    "result_modulo = pow(base, exponent, 5)  # equivalent to (base ** exponent) % 5\n",
    "print(f\"{base} raised to the power of {exponent} modulo 5 is: {result_modulo}\")\n",
    "\n",
    "# Absolute value\n",
    "number = -7\n",
    "absolute_value = abs(number)\n",
    "print(f\"The absolute value of {number} is: {absolute_value}\")\n",
    "\n",
    "# Rounding\n",
    "float_number = 3.14159\n",
    "rounded_number = round(float_number, 2)\n",
    "print(f\"The rounded value of {float_number} is: {rounded_number}\")\n"
   ]
  },
  {
   "cell_type": "markdown",
   "id": "c7566867",
   "metadata": {},
   "source": [
    "### math"
   ]
  },
  {
   "cell_type": "code",
   "execution_count": 2,
   "id": "dbabd7e6",
   "metadata": {},
   "outputs": [
    {
     "name": "stdout",
     "output_type": "stream",
     "text": [
      "Square root of 25 is: 5.0\n",
      "Sine of 30 degrees is: 0.49999999999999994\n"
     ]
    }
   ],
   "source": [
    "import math\n",
    "\n",
    "# Square root\n",
    "sqrt_result = math.sqrt(25)\n",
    "print(f\"Square root of 25 is: {sqrt_result}\")\n",
    "\n",
    "# Trigonometric functions\n",
    "sine_result = math.sin(math.radians(30))  # sine of 30 degrees\n",
    "print(f\"Sine of 30 degrees is: {sine_result}\")\n"
   ]
  },
  {
   "cell_type": "markdown",
   "id": "965c75ff",
   "metadata": {},
   "source": [
    "### complex"
   ]
  },
  {
   "cell_type": "code",
   "execution_count": 4,
   "id": "f380eca7",
   "metadata": {},
   "outputs": [
    {
     "name": "stdout",
     "output_type": "stream",
     "text": [
      "Sum of complex numbers: (3+1j)\n"
     ]
    }
   ],
   "source": [
    "complex_num_1 = 2 + 3j\n",
    "complex_num_2 = 1 - 2j\n",
    "complex_sum = complex_num_1 + complex_num_2\n",
    "print(f\"Sum of complex numbers: {complex_sum}\")\n"
   ]
  },
  {
   "cell_type": "markdown",
   "id": "197ee3a8",
   "metadata": {},
   "source": [
    "### decimal"
   ]
  },
  {
   "cell_type": "code",
   "execution_count": 5,
   "id": "facb91cf",
   "metadata": {},
   "outputs": [
    {
     "name": "stdout",
     "output_type": "stream",
     "text": [
      "Decimal sum: 0.3\n"
     ]
    }
   ],
   "source": [
    "from decimal import Decimal\n",
    "\n",
    "decimal_num_1 = Decimal('0.1')\n",
    "decimal_num_2 = Decimal('0.2')\n",
    "decimal_sum = decimal_num_1 + decimal_num_2\n",
    "print(f\"Decimal sum: {decimal_sum}\")\n"
   ]
  },
  {
   "cell_type": "markdown",
   "id": "b826e451",
   "metadata": {},
   "source": [
    "### random"
   ]
  },
  {
   "cell_type": "code",
   "execution_count": 6,
   "id": "8c78c9cc",
   "metadata": {},
   "outputs": [
    {
     "name": "stdout",
     "output_type": "stream",
     "text": [
      "Random float between 0 and 1: 0.7140845228438044\n",
      "Random integer between 1 and 100: 76\n"
     ]
    }
   ],
   "source": [
    "import random\n",
    "\n",
    "# Random float between 0 and 1\n",
    "random_float = random.random()\n",
    "print(f\"Random float between 0 and 1: {random_float}\")\n",
    "\n",
    "# Random integer in a range\n",
    "random_integer = random.randint(1, 100)\n",
    "print(f\"Random integer between 1 and 100: {random_integer}\")\n"
   ]
  },
  {
   "cell_type": "markdown",
   "id": "4166b05d",
   "metadata": {},
   "source": [
    "# test"
   ]
  },
  {
   "cell_type": "code",
   "execution_count": 7,
   "id": "7592903e",
   "metadata": {},
   "outputs": [
    {
     "name": "stdout",
     "output_type": "stream",
     "text": [
      "0x400\n",
      "0b10000000000\n"
     ]
    }
   ],
   "source": [
    "# Problem 1: Convert 1024 to binary and hexadecimal representation\n",
    "\n",
    "print(hex(1024))\n",
    "print(bin(1024))"
   ]
  },
  {
   "cell_type": "code",
   "execution_count": 8,
   "id": "f3b9fbcc",
   "metadata": {},
   "outputs": [
    {
     "name": "stdout",
     "output_type": "stream",
     "text": [
      "5.23\n"
     ]
    }
   ],
   "source": [
    "# Problem 2: Round 5.23222 to two decimal places\n",
    "print(round(5.23222,2))"
   ]
  },
  {
   "cell_type": "code",
   "execution_count": 9,
   "id": "11629743",
   "metadata": {},
   "outputs": [
    {
     "name": "stdout",
     "output_type": "stream",
     "text": [
      "False\n"
     ]
    }
   ],
   "source": [
    "# Problem 3: Check if every letter in the string s is lower case\n",
    "s = 'hello how are you Mary, are you feeling okay?'\n",
    "print(s.islower())"
   ]
  },
  {
   "cell_type": "code",
   "execution_count": 10,
   "id": "d788d990",
   "metadata": {},
   "outputs": [
    {
     "name": "stdout",
     "output_type": "stream",
     "text": [
      "12\n"
     ]
    }
   ],
   "source": [
    "# Problem 4: How many times does the letter 'w' show up in the string below?\n",
    "s = 'twywywtwywbwhsjhwuwshshwuwwwjdjdid'\n",
    "\n",
    "print(s.count('w'))"
   ]
  },
  {
   "cell_type": "code",
   "execution_count": 11,
   "id": "0aff44bf",
   "metadata": {},
   "outputs": [
    {
     "name": "stdout",
     "output_type": "stream",
     "text": [
      "{2}\n"
     ]
    }
   ],
   "source": [
    "# Problem 5: Find the elements in set1 that are not in set2:\n",
    "set1 = {2,3,1,5,6,8}\n",
    "set2 = {3,1,7,5,6,8}\n",
    "\n",
    "print(set1.difference(set2))"
   ]
  },
  {
   "cell_type": "code",
   "execution_count": 12,
   "id": "c00aed62",
   "metadata": {},
   "outputs": [
    {
     "data": {
      "text/plain": [
       "{1, 2, 3, 5, 6, 7, 8}"
      ]
     },
     "execution_count": 12,
     "metadata": {},
     "output_type": "execute_result"
    }
   ],
   "source": [
    "# Problem 6: Find all elements that are in either set:\n",
    "set1.union(set2)"
   ]
  },
  {
   "cell_type": "code",
   "execution_count": 14,
   "id": "a01fcb9d",
   "metadata": {},
   "outputs": [
    {
     "name": "stdout",
     "output_type": "stream",
     "text": [
      "{1: 1, 2: 8, 3: 27, 4: 64}\n"
     ]
    }
   ],
   "source": [
    "# Problem 7: Create this dictionary: {0: 0, 1: 1, 2: 8, 3: 27, 4: 64} using a dictionary comprehension.\n",
    "dic_square = {i: i**3 for i in range(1,5)}\n",
    "print(dic_square)"
   ]
  },
  {
   "cell_type": "code",
   "execution_count": 26,
   "id": "12b52d3b",
   "metadata": {},
   "outputs": [
    {
     "name": "stdout",
     "output_type": "stream",
     "text": [
      "[4, 3, 2, 1]\n",
      "[4, 3, 2, 1]\n"
     ]
    }
   ],
   "source": [
    "# Problem 8: Reverse the list below:\n",
    "list1 = [1,2,3,4]\n",
    "list1.reverse()\n",
    "print(list1)\n",
    "\n",
    "list2 = [1,2,3,4]\n",
    "print(list(reversed(list2)))"
   ]
  },
  {
   "cell_type": "code",
   "execution_count": 28,
   "id": "3177d819",
   "metadata": {},
   "outputs": [],
   "source": [
    "# Problem 9: Sort the list below:\n",
    "list2 = [3,4,2,5,1]\n",
    "list2.sort()"
   ]
  },
  {
   "cell_type": "code",
   "execution_count": 29,
   "id": "049e3922",
   "metadata": {},
   "outputs": [
    {
     "data": {
      "text/plain": [
       "[1, 2, 3, 4, 5]"
      ]
     },
     "execution_count": 29,
     "metadata": {},
     "output_type": "execute_result"
    }
   ],
   "source": [
    "list2"
   ]
  },
  {
   "cell_type": "code",
   "execution_count": 30,
   "id": "d7ea365d",
   "metadata": {},
   "outputs": [
    {
     "data": {
      "text/plain": [
       "[1, 2, 3, 4, 5]"
      ]
     },
     "execution_count": 30,
     "metadata": {},
     "output_type": "execute_result"
    }
   ],
   "source": [
    "list2 = [3,4,2,5,1]\n",
    "a = sorted(list2)\n",
    "a"
   ]
  },
  {
   "cell_type": "code",
   "execution_count": null,
   "id": "959233c8",
   "metadata": {},
   "outputs": [],
   "source": []
  }
 ],
 "metadata": {
  "kernelspec": {
   "display_name": "Python 3 (ipykernel)",
   "language": "python",
   "name": "python3"
  },
  "language_info": {
   "codemirror_mode": {
    "name": "ipython",
    "version": 3
   },
   "file_extension": ".py",
   "mimetype": "text/x-python",
   "name": "python",
   "nbconvert_exporter": "python",
   "pygments_lexer": "ipython3",
   "version": "3.9.13"
  }
 },
 "nbformat": 4,
 "nbformat_minor": 5
}
