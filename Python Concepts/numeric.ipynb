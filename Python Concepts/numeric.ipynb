{
 "cells": [
  {
   "cell_type": "markdown",
   "id": "48c33330",
   "metadata": {},
   "source": [
    "# NUMERIC\n",
    "- immutable data type\n",
    "- int\n",
    "- float\n",
    "- complex"
   ]
  },
  {
   "cell_type": "markdown",
   "id": "35e53e4e",
   "metadata": {},
   "source": [
    "### int  type\n",
    "\n",
    "- whole number"
   ]
  },
  {
   "cell_type": "code",
   "execution_count": 1,
   "id": "66f7861c",
   "metadata": {},
   "outputs": [
    {
     "name": "stdout",
     "output_type": "stream",
     "text": [
      "<class 'int'>\n"
     ]
    }
   ],
   "source": [
    "num = 10\n",
    "\n",
    "# to know the data type use 'type()'\n",
    "print(type(num))"
   ]
  },
  {
   "cell_type": "markdown",
   "id": "e4d976b5",
   "metadata": {},
   "source": [
    "### float type\n",
    "- real numbers "
   ]
  },
  {
   "cell_type": "code",
   "execution_count": 2,
   "id": "f32bec5b",
   "metadata": {},
   "outputs": [
    {
     "name": "stdout",
     "output_type": "stream",
     "text": [
      "<class 'float'>\n"
     ]
    }
   ],
   "source": [
    "num = 7/10\n",
    "\n",
    "# to know the data type use 'type()'\n",
    "print(type(num))"
   ]
  },
  {
   "cell_type": "markdown",
   "id": "07c300b7",
   "metadata": {},
   "source": [
    "### complex type"
   ]
  },
  {
   "cell_type": "code",
   "execution_count": 3,
   "id": "0ea356f5",
   "metadata": {},
   "outputs": [
    {
     "name": "stdout",
     "output_type": "stream",
     "text": [
      "<class 'complex'>\n"
     ]
    }
   ],
   "source": [
    "num = 1 + 3j\n",
    "\n",
    "# to know the data type use 'type()'\n",
    "print(type(num))"
   ]
  }
 ],
 "metadata": {
  "kernelspec": {
   "display_name": "Python 3 (ipykernel)",
   "language": "python",
   "name": "python3"
  },
  "language_info": {
   "codemirror_mode": {
    "name": "ipython",
    "version": 3
   },
   "file_extension": ".py",
   "mimetype": "text/x-python",
   "name": "python",
   "nbconvert_exporter": "python",
   "pygments_lexer": "ipython3",
   "version": "3.9.13"
  }
 },
 "nbformat": 4,
 "nbformat_minor": 5
}
