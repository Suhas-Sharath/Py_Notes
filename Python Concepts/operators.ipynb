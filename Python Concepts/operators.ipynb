{
 "cells": [
  {
   "cell_type": "markdown",
   "id": "984fbcef",
   "metadata": {},
   "source": [
    "# OPERATORS"
   ]
  },
  {
   "cell_type": "markdown",
   "id": "b0aea1bc",
   "metadata": {},
   "source": [
    "### ARITHEMTIC OPERATORS"
   ]
  },
  {
   "cell_type": "code",
   "execution_count": 1,
   "id": "039f5d61",
   "metadata": {},
   "outputs": [
    {
     "name": "stdout",
     "output_type": "stream",
     "text": [
      "addition is  110\n",
      "subtraction is  90\n",
      "muplication is  1000\n",
      "division is  9.090909090909092\n",
      "floor division is  10.0\n",
      "modolus is  0\n",
      "exponent is  100000000000000000000\n"
     ]
    }
   ],
   "source": [
    "x = 100\n",
    "y = 10\n",
    "\n",
    "# addition '+' \n",
    "print(\"addition is \",x + y)\n",
    "\n",
    "# subtraction '-'\n",
    "print(\"subtraction is \",x - y)\n",
    "\n",
    "# muplication '*'\n",
    "print(\"muplication is \",x * y)\n",
    "\n",
    "# division '/' aslo know as float divison \n",
    "print(\"division is \",x / (y+1))\n",
    "\n",
    "# floor division '//' \n",
    "print(\"floor division is \",x / y)\n",
    "\n",
    "# modulus '%'\n",
    "print(\"modolus is \",x % y)\n",
    "\n",
    "# exponent\n",
    "print(\"exponent is \", x ** y)"
   ]
  },
  {
   "cell_type": "markdown",
   "id": "89099f79",
   "metadata": {},
   "source": [
    "### COMPARISON OPERATORS"
   ]
  },
  {
   "cell_type": "code",
   "execution_count": 2,
   "id": "2ead3cc4",
   "metadata": {},
   "outputs": [
    {
     "name": "stdout",
     "output_type": "stream",
     "text": [
      "x == y: False\n",
      "x != y: True\n",
      "x > y: True\n",
      "x < y: False\n",
      "x >= y: True\n",
      "x <= y: False\n"
     ]
    }
   ],
   "source": [
    "x = 10\n",
    "y = 7\n",
    "\n",
    "# Equal to\n",
    "equal_result = x == y\n",
    "\n",
    "# Not equal to\n",
    "not_equal_result = x != y\n",
    "\n",
    "# Greater than\n",
    "greater_than_result = x > y\n",
    "\n",
    "# Less than\n",
    "less_than_result = x < y\n",
    "\n",
    "# Greater than or equal to\n",
    "greater_than_equal_result = x >= y\n",
    "\n",
    "# Less than or equal to\n",
    "less_than_equal_result = x <= y\n",
    "\n",
    "print(\"x == y:\", equal_result)                  # Output: x == y: False\n",
    "print(\"x != y:\", not_equal_result)              # Output: x != y: True\n",
    "print(\"x > y:\", greater_than_result)            # Output: x > y: True\n",
    "print(\"x < y:\", less_than_result)               # Output: x < y: False\n",
    "print(\"x >= y:\", greater_than_equal_result)     # Output: x >= y: True\n",
    "print(\"x <= y:\", less_than_equal_result)        # Output: x <= y: False"
   ]
  },
  {
   "cell_type": "code",
   "execution_count": 3,
   "id": "cd49f407",
   "metadata": {},
   "outputs": [
    {
     "name": "stdout",
     "output_type": "stream",
     "text": [
      "Result: 6.0\n"
     ]
    },
    {
     "data": {
      "text/plain": [
       "'So, the final result of the expression is 42.0, following the order of operations dictated by PEMDAS.'"
      ]
     },
     "execution_count": 3,
     "metadata": {},
     "output_type": "execute_result"
    }
   ],
   "source": [
    "# PEDMAS OF PYTHON \n",
    "x = 10\n",
    "y = 5\n",
    "z = 3\n",
    "\n",
    "result = x + y * z ** 2 / y - (x + z)\n",
    "\n",
    "print(\"Result:\", result)  # Output: Result: 42.0\n",
    "\"\"\"So, the final result of the expression is 42.0, following the order of operations dictated by PEMDAS.\"\"\"\n",
    "\n",
    "#note: = is an assignment operator and == comparison operator"
   ]
  },
  {
   "cell_type": "markdown",
   "id": "f99e8c35",
   "metadata": {},
   "source": [
    "#### LOGICAL OPERATORS \n",
    "\n",
    "##### The precedence of Logical Operators in python is as follows:\n",
    "\n",
    "- Logical not\n",
    "- logical and\n",
    "- logical or"
   ]
  },
  {
   "cell_type": "code",
   "execution_count": 4,
   "id": "437f8c99",
   "metadata": {},
   "outputs": [
    {
     "name": "stdout",
     "output_type": "stream",
     "text": [
      "True\n",
      "True\n",
      "False\n"
     ]
    }
   ],
   "source": [
    "x,y = 10,7\n",
    "\n",
    "# logical AND \n",
    "res = x > 5 and y < 10\n",
    "print(res)\n",
    "res = 0\n",
    "\n",
    "# logical OR \n",
    "res = x > 11 or y < 10\n",
    "print(res)\n",
    "\n",
    "# logical NOT \n",
    "res = not(x < 11)\n",
    "print(res)"
   ]
  },
  {
   "cell_type": "markdown",
   "id": "43e52b88",
   "metadata": {},
   "source": [
    "De Morgan's Laws: De Morgan's laws are a set of rules that describe how logical expressions involving NOT, AND, and OR operators can be simplified. They are useful for transforming complex logical expressions into simpler forms.\n",
    "\n",
    "Here's an example of De Morgan's laws:\n",
    "\n",
    "Original expression: not (A and B)\n",
    "Equivalent expression: (not A) or (not B)\n",
    "\n",
    "Original expression: not (A or B)\n",
    "Equivalent expression: (not A) and (not B)"
   ]
  },
  {
   "cell_type": "markdown",
   "id": "6e3ff481",
   "metadata": {},
   "source": [
    "#### BITWISE OPERATORS "
   ]
  },
  {
   "cell_type": "markdown",
   "id": "8d29e574",
   "metadata": {},
   "source": [
    "- AND - both are 1 then 1 or else 0 \n",
    "- OR - if (anyone is 1 then 1 or both are 1 then 1) or else 0\n",
    "- XOR  - if both bits are same then 0 only when both bits are diff it gives 1\n",
    "- NOT - number + 1 and make it negative \n",
    "- LEFT SHIFT - gains bits number/2** n\n",
    "- RIGHT SHIFT - lose bits "
   ]
  },
  {
   "cell_type": "code",
   "execution_count": 5,
   "id": "3c9a3950",
   "metadata": {},
   "outputs": [
    {
     "name": "stdout",
     "output_type": "stream",
     "text": [
      "Bitwise AND: 2\n",
      "Bitwise OR: 15\n",
      "Bitwise XOR: 13\n",
      "Bitwise NOT x: -11\n",
      "Bitwise NOT y: -8\n",
      "Left Shift: 20\n",
      "Right Shift: 5\n"
     ]
    }
   ],
   "source": [
    "x = 10\n",
    "y = 7\n",
    "\n",
    "# Bitwise AND\n",
    "result_and = x & y\n",
    "print(\"Bitwise AND:\", result_and)  # 2\n",
    "#\n",
    "# Bitwise OR\n",
    "result_or = x | y\n",
    "print(\"Bitwise OR:\", result_or)    # 15\n",
    "\n",
    "# Bitwise XOR\n",
    "result_xor = x ^ y\n",
    "print(\"Bitwise XOR:\", result_xor)  # 13\n",
    "\n",
    "# Bitwise NOT\n",
    "result_not_x = ~x\n",
    "result_not_y = ~y\n",
    "print(\"Bitwise NOT x:\", result_not_x)  # -11\n",
    "print(\"Bitwise NOT y:\", result_not_y)  # -8\n",
    "\n",
    "# Left Shift\n",
    "result_left_shift = x << 1\n",
    "print(\"Left Shift:\", result_left_shift)  # 20\n",
    "\n",
    "# Right Shift\n",
    "result_right_shift = x >> 1\n",
    "print(\"Right Shift:\", result_right_shift)  # 5"
   ]
  },
  {
   "cell_type": "markdown",
   "id": "3f527fe6",
   "metadata": {},
   "source": [
    "#### ASSIGNMENT OPERATORS "
   ]
  },
  {
   "cell_type": "code",
   "execution_count": 6,
   "id": "3d8baf0c",
   "metadata": {},
   "outputs": [
    {
     "name": "stdout",
     "output_type": "stream",
     "text": [
      "x after = is  10\n",
      "x after += is  15\n",
      "x after -= is  12\n",
      "x after *= is  24\n",
      "x after /= is  8.0\n",
      "x after %= is  3.0\n",
      "x after **= is  9.0\n",
      "x after //= is  4.0\n"
     ]
    }
   ],
   "source": [
    "# Assignment Operator (=)\n",
    "x = 10\n",
    "print(\"x after = is \", x)  # 10\n",
    "\n",
    "# Addition Assignment (+=)\n",
    "x += 5\n",
    "print(\"x after += is \", x)  # 15\n",
    "\n",
    "# Subtraction Assignment (-=)\n",
    "x -= 3\n",
    "print(\"x after -= is \", x)  # 12\n",
    "\n",
    "# Multiplication Assignment (*=)\n",
    "x *= 2\n",
    "print(\"x after *= is \", x)  # 24\n",
    "\n",
    "# Division Assignment (/=)\n",
    "x /= 3\n",
    "print(\"x after /= is \", x)  # 8.0\n",
    "\n",
    "# Modulus Assignment (%=)\n",
    "x %= 5\n",
    "print(\"x after %= is \", x)  # 3.0\n",
    "\n",
    "# Exponentiation Assignment (**=)\n",
    "x **= 2\n",
    "print(\"x after **= is \", x)  # 9.0\n",
    "\n",
    "# Floor Division Assignment (//=)\n",
    "x //= 2\n",
    "print(\"x after //= is \", x)  # 4.0"
   ]
  },
  {
   "cell_type": "markdown",
   "id": "cebd6c90",
   "metadata": {},
   "source": [
    "#### IDENTITY OPERATORS"
   ]
  },
  {
   "cell_type": "code",
   "execution_count": 7,
   "id": "f891b576",
   "metadata": {},
   "outputs": [
    {
     "name": "stdout",
     "output_type": "stream",
     "text": [
      "True\n",
      "True\n"
     ]
    }
   ],
   "source": [
    "a = 10\n",
    "b = 20\n",
    "c = a\n",
    "\n",
    "print(a is not b)\n",
    "print(a is c)"
   ]
  },
  {
   "cell_type": "markdown",
   "id": "446eadee",
   "metadata": {},
   "source": [
    "#### MEMBERSHIP OPERATORS"
   ]
  },
  {
   "cell_type": "code",
   "execution_count": 8,
   "id": "b2ca1e0b",
   "metadata": {},
   "outputs": [
    {
     "name": "stdout",
     "output_type": "stream",
     "text": [
      "Yes, 'banana' is in the list.\n",
      "No, 'grape' is not in the list.\n"
     ]
    }
   ],
   "source": [
    "# Membership operators - in and not in\n",
    "fruits = [\"apple\", \"banana\", \"cherry\", \"orange\"]\n",
    "\n",
    "# Check if \"banana\" is in the list\n",
    "if \"banana\" in fruits:\n",
    "    print(\"Yes, 'banana' is in the list.\")\n",
    "\n",
    "# Check if \"grape\" is not in the list\n",
    "if \"grape\" not in fruits:\n",
    "    print(\"No, 'grape' is not in the list.\")"
   ]
  },
  {
   "cell_type": "markdown",
   "id": "b98f065c",
   "metadata": {},
   "source": [
    "#### TERNARY OPERATORS"
   ]
  },
  {
   "cell_type": "code",
   "execution_count": 9,
   "id": "280d7192",
   "metadata": {},
   "outputs": [
    {
     "name": "stdout",
     "output_type": "stream",
     "text": [
      "10\n",
      "is the number -10 is positive? False\n"
     ]
    }
   ],
   "source": [
    "x,y = 10,7\n",
    "\n",
    "maxs = x if x > y else y\n",
    "print(maxs)\n",
    "a = -10\n",
    "def check(a):\n",
    "    return True if a > 0 else False\n",
    "print(f'is the number {a} is positive? {check(a)}')"
   ]
  }
 ],
 "metadata": {
  "kernelspec": {
   "display_name": "Python 3 (ipykernel)",
   "language": "python",
   "name": "python3"
  },
  "language_info": {
   "codemirror_mode": {
    "name": "ipython",
    "version": 3
   },
   "file_extension": ".py",
   "mimetype": "text/x-python",
   "name": "python",
   "nbconvert_exporter": "python",
   "pygments_lexer": "ipython3",
   "version": "3.9.13"
  }
 },
 "nbformat": 4,
 "nbformat_minor": 5
}
