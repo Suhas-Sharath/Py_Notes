{
 "cells": [
  {
   "cell_type": "markdown",
   "id": "3ca17eab",
   "metadata": {},
   "source": [
    "# UNIT TESTING"
   ]
  },
  {
   "cell_type": "code",
   "execution_count": 1,
   "id": "51628d0a",
   "metadata": {},
   "outputs": [
    {
     "name": "stderr",
     "output_type": "stream",
     "text": [
      "....\n",
      "----------------------------------------------------------------------\n",
      "Ran 4 tests in 0.006s\n",
      "\n",
      "OK\n"
     ]
    },
    {
     "data": {
      "text/plain": [
       "<unittest.runner.TextTestResult run=4 errors=0 failures=0>"
      ]
     },
     "execution_count": 1,
     "metadata": {},
     "output_type": "execute_result"
    }
   ],
   "source": [
    "import unittest\n",
    "\n",
    "class MyTests(unittest.TestCase):\n",
    "\n",
    "    def test_addition(self):\n",
    "        self.assertEqual(1 + 1, 2)\n",
    "\n",
    "    def test_subtraction(self):\n",
    "        self.assertEqual(5 - 3, 2)\n",
    "\n",
    "    def test_multiplication(self):\n",
    "        self.assertEqual(2 * 3, 6)\n",
    "\n",
    "    def test_division(self):\n",
    "        self.assertEqual(8 / 2, 4)\n",
    "\n",
    "# Create an instance of the test case class\n",
    "my_tests = MyTests()\n",
    "\n",
    "# Run the tests\n",
    "unittest.TextTestRunner().run(unittest.TestLoader().loadTestsFromModule(my_tests))\n"
   ]
  },
  {
   "cell_type": "code",
   "execution_count": 2,
   "id": "c2faa88f",
   "metadata": {},
   "outputs": [
    {
     "name": "stderr",
     "output_type": "stream",
     "text": [
      "...\n",
      "----------------------------------------------------------------------\n",
      "Ran 3 tests in 0.004s\n",
      "\n",
      "OK\n"
     ]
    },
    {
     "data": {
      "text/plain": [
       "<unittest.runner.TextTestResult run=3 errors=0 failures=0>"
      ]
     },
     "execution_count": 2,
     "metadata": {},
     "output_type": "execute_result"
    }
   ],
   "source": [
    "import unittest\n",
    "\n",
    "def title_text(text):\n",
    "    return text.title()\n",
    "    \n",
    "\n",
    "class TestTitle(unittest.TestCase):\n",
    "    def test_one(self):\n",
    "        text = 'shadow'\n",
    "        result = title_text(text)\n",
    "        self.assertEqual(result, 'Shadow')\n",
    "\n",
    "    def test_two(self):\n",
    "        text = 'hello world'\n",
    "        result = title_text(text)\n",
    "        self.assertEqual(result, 'Hello World')\n",
    "\n",
    "    def test_three(self):\n",
    "        text = '12 street'\n",
    "        result = title_text(text)\n",
    "        self.assertEqual(result, '12 Street')\n",
    "\n",
    "# Create an instance of the test case class\n",
    "test_title_instance = TestTitle()\n",
    "\n",
    "# Run the tests\n",
    "unittest.TextTestRunner().run(unittest.TestLoader().loadTestsFromModule(test_title_instance))\n"
   ]
  },
  {
   "cell_type": "raw",
   "id": "ad411016",
   "metadata": {},
   "source": [
    "# code from vs code\n",
    "import unittest\n",
    "import title\n",
    "\n",
    "class TestTitle(unittest.TestCase):\n",
    "    def test_one(self):\n",
    "        text = 'shadow'\n",
    "        result = title.title_text(text)\n",
    "        self.assertEqual(result,'Shadow')\n",
    "\n",
    "    def test_two(self):\n",
    "        text = 'hello world'\n",
    "        result = title.title_text(text)\n",
    "        self.assertEqual(result,'Hello World')\n",
    "    \n",
    "    def test_three(self):\n",
    "        text = '12 street'\n",
    "        result = title.title_text(text)\n",
    "        self.assertEqual(result,'12 Street')\n",
    "\n",
    "if __name__ == '__main__':\n",
    "    unittest.main()"
   ]
  },
  {
   "attachments": {
    "1111.png": {
     "image/png": "[encoded data removed]"
    }
   },
   "cell_type": "markdown",
   "id": "4599dbf2",
   "metadata": {},
   "source": [
    "![1111.png](attachment:1111.png)"
   ]
  }
 ],
 "metadata": {
  "kernelspec": {
   "display_name": "Python 3 (ipykernel)",
   "language": "python",
   "name": "python3"
  },
  "language_info": {
   "codemirror_mode": {
    "name": "ipython",
    "version": 3
   },
   "file_extension": ".py",
   "mimetype": "text/x-python",
   "name": "python",
   "nbconvert_exporter": "python",
   "pygments_lexer": "ipython3",
   "version": "3.9.13"
  }
 },
 "nbformat": 4,
 "nbformat_minor": 5
}
