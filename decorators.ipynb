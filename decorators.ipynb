{
 "cells": [
  {
   "cell_type": "markdown",
   "id": "879b1aea",
   "metadata": {},
   "source": [
    "# DECORATORS\n",
    "- add extra functionality to an already existing function\n",
    "- @ operator on top of original function"
   ]
  },
  {
   "cell_type": "raw",
   "id": "c05b4b19",
   "metadata": {},
   "source": [
    "@sample_decorator\n",
    "def func():\n",
    "    pass"
   ]
  },
  {
   "cell_type": "code",
   "execution_count": 1,
   "id": "8e980383",
   "metadata": {},
   "outputs": [
    {
     "name": "stdout",
     "output_type": "stream",
     "text": [
      "Something is happening before the function is called.\n",
      "Whee!\n",
      "Something is happening after the function is called.\n"
     ]
    }
   ],
   "source": [
    "def my_decorator(func):\n",
    "    def wrapper():\n",
    "        print(\"Something is happening before the function is called.\")\n",
    "        func()\n",
    "        print(\"Something is happening after the function is called.\")\n",
    "    return wrapper\n",
    "\n",
    "\n",
    "def say_whee():\n",
    "    print(\"Whee!\")\n",
    "\n",
    "say_whee = my_decorator(say_whee)\n",
    "say_whee()"
   ]
  },
  {
   "cell_type": "code",
   "execution_count": 2,
   "id": "f750d204",
   "metadata": {},
   "outputs": [
    {
     "name": "stdout",
     "output_type": "stream",
     "text": [
      "Calling add with arguments (3, 5) and keyword arguments {}\n",
      "add returned 8\n"
     ]
    }
   ],
   "source": [
    "def log_function_call(func):\n",
    "    def wrapper(*args, **kwargs):\n",
    "        print(f\"Calling {func.__name__} with arguments {args} and keyword arguments {kwargs}\")\n",
    "        result = func(*args, **kwargs)\n",
    "        print(f\"{func.__name__} returned {result}\")\n",
    "        return result\n",
    "    return wrapper\n",
    "\n",
    "@log_function_call\n",
    "def add(a, b):\n",
    "    return a + b\n",
    "\n",
    "# Calling the decorated function\n",
    "result = add(3, 5)\n",
    "    "
   ]
  },
  {
   "cell_type": "code",
   "execution_count": 30,
   "id": "a2a91d38",
   "metadata": {},
   "outputs": [
    {
     "name": "stdout",
     "output_type": "stream",
     "text": [
      "Check if both numbers are the same\n",
      "Numbers are not the same.\n",
      "--------------------\n",
      "Check if both numbers are the same\n",
      "Same numbers\n"
     ]
    }
   ],
   "source": [
    "def prnt(func):\n",
    "    def wrapper(*args, **kwargs):\n",
    "        a, b = args  # Unpacking the arguments\n",
    "        print(\"Check if both numbers are the same\")\n",
    "        if a == b:\n",
    "            return func(*args, **kwargs)\n",
    "        else:\n",
    "            return \"Numbers are not the same.\"\n",
    "    return wrapper\n",
    "    \n",
    "@prnt\n",
    "def num(a, b):\n",
    "    return \"Same numbers\"\n",
    "\n",
    "a, b = 4, 5\n",
    "res = num(a, b)\n",
    "print(res)\n",
    "print(\"--------------------\")\n",
    "a, b = 4, 4\n",
    "res = num(a, b)\n",
    "print(res)\n"
   ]
  },
  {
   "cell_type": "code",
   "execution_count": null,
   "id": "07912ef8",
   "metadata": {},
   "outputs": [],
   "source": []
  }
 ],
 "metadata": {
  "kernelspec": {
   "display_name": "Python 3 (ipykernel)",
   "language": "python",
   "name": "python3"
  },
  "language_info": {
   "codemirror_mode": {
    "name": "ipython",
    "version": 3
   },
   "file_extension": ".py",
   "mimetype": "text/x-python",
   "name": "python",
   "nbconvert_exporter": "python",
   "pygments_lexer": "ipython3",
   "version": "3.9.13"
  }
 },
 "nbformat": 4,
 "nbformat_minor": 5
}
