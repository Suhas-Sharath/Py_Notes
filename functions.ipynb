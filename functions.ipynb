{
 "cells": [
  {
   "cell_type": "markdown",
   "id": "5bc2a3df",
   "metadata": {},
   "source": [
    "# FUNCTIONS"
   ]
  },
  {
   "cell_type": "markdown",
   "id": "e364cbfb",
   "metadata": {},
   "source": [
    "- code block which can be executed n times.\n",
    "- def keyword"
   ]
  },
  {
   "cell_type": "code",
   "execution_count": null,
   "id": "cac5cebb",
   "metadata": {},
   "outputs": [],
   "source": [
    "def name_of_function(name):\n",
    "    '''\n",
    "    - use snake casing(all lowercase with underscore between)\n",
    "    - (name) can store the parameters \n",
    "    '''\n",
    "    print(f'Hello {name}')\n",
    "    \n",
    "name = 'shadow'\n",
    "# to call the function \n",
    "name_of_function(name)"
   ]
  },
  {
   "cell_type": "code",
   "execution_count": 14,
   "id": "19510bbe",
   "metadata": {},
   "outputs": [
    {
     "data": {
      "text/plain": [
       "6"
      ]
     },
     "execution_count": 14,
     "metadata": {},
     "output_type": "execute_result"
    }
   ],
   "source": [
    "# using return keyword\n",
    "\n",
    "def add(a,b):\n",
    "    return a + b\n",
    "\n",
    "add(a=1,b=5)"
   ]
  },
  {
   "cell_type": "code",
   "execution_count": 11,
   "id": "fd40a4f4",
   "metadata": {},
   "outputs": [
    {
     "data": {
      "text/plain": [
       "<function __main__.add(a, b)>"
      ]
     },
     "execution_count": 11,
     "metadata": {},
     "output_type": "execute_result"
    }
   ],
   "source": [
    "add\n",
    "# function "
   ]
  },
  {
   "cell_type": "code",
   "execution_count": 13,
   "id": "10bbebfa",
   "metadata": {},
   "outputs": [
    {
     "name": "stdout",
     "output_type": "stream",
     "text": [
      "Hello shadow\n",
      "\n",
      "Hello world\n"
     ]
    }
   ],
   "source": [
    "# having a default parameter value \n",
    "\n",
    "def greet(name = 'world'):\n",
    "    print(f'Hello {name}')\n",
    "greet('shadow')\n",
    "print()\n",
    "greet()"
   ]
  },
  {
   "cell_type": "markdown",
   "id": "1feb7b60",
   "metadata": {},
   "source": [
    "note:\n",
    "- return only exits the function \n",
    "- return value can be stored in a variable or print statement "
   ]
  },
  {
   "cell_type": "code",
   "execution_count": 16,
   "id": "1a75d597",
   "metadata": {},
   "outputs": [
    {
     "data": {
      "text/plain": [
       "'10 is greater than 7'"
      ]
     },
     "execution_count": 16,
     "metadata": {},
     "output_type": "execute_result"
    }
   ],
   "source": [
    "# mutiple returns\n",
    "def compare_numbers(a, b):\n",
    "    if a > b:\n",
    "        return f'{a} is greater than {b}'\n",
    "    elif a < b:\n",
    "        return f'{a} is less than {b}'\n",
    "    else:\n",
    "        return f'{a} and {b} are equal'\n",
    "    \n",
    "compare_numbers(a=10,b=7)"
   ]
  },
  {
   "cell_type": "markdown",
   "id": "fdedd694",
   "metadata": {},
   "source": [
    "#### iteraction between functions "
   ]
  },
  {
   "cell_type": "code",
   "execution_count": 39,
   "id": "3048383f",
   "metadata": {},
   "outputs": [
    {
     "name": "stdout",
     "output_type": "stream",
     "text": [
      "pick a number between 0,1 or 2 : 1\n",
      "guess is wrong : ['O', ' ', ' ']\n"
     ]
    }
   ],
   "source": [
    "from random import shuffle\n",
    "\n",
    "my_list = ['O',' ',' ']\n",
    "\n",
    "def shuffle_list(my_list):\n",
    "    \"\"\"\n",
    "    function to shuffle the list randomly\n",
    "    \"\"\"\n",
    "    shuffle(my_list)\n",
    "    return my_list\n",
    "\n",
    "\n",
    "def user_guess():\n",
    "    guess = ''\n",
    "    while guess not in ['0','1','2']:\n",
    "        guess = input(\"pick a number between 0,1 or 2 : \")\n",
    "        \n",
    "    return int(guess)\n",
    "\n",
    "# shuffle the list \n",
    "shuffle_list(my_list)\n",
    "\n",
    "# store the user guess\n",
    "user_input = user_guess()\n",
    "\n",
    "# check if user guess and list have the same index or number\n",
    "if my_list[user_input] == 'O':\n",
    "    print(f'guess is right : {my_list}')\n",
    "else:\n",
    "    print(f'guess is wrong : {my_list}')\n"
   ]
  },
  {
   "cell_type": "code",
   "execution_count": 40,
   "id": "e3bc563d",
   "metadata": {},
   "outputs": [],
   "source": [
    "# check __main__ and __name__ "
   ]
  },
  {
   "cell_type": "markdown",
   "id": "798e9bab",
   "metadata": {},
   "source": [
    "#### *args"
   ]
  },
  {
   "cell_type": "code",
   "execution_count": 51,
   "id": "d8d9f71f",
   "metadata": {},
   "outputs": [
    {
     "data": {
      "text/plain": [
       "80.0"
      ]
     },
     "execution_count": 51,
     "metadata": {},
     "output_type": "execute_result"
    }
   ],
   "source": [
    "# *args - helps in handling number of variables \n",
    "\n",
    "def myfunc(a,b):\n",
    "    return sum((a,b)) * 10.0\n",
    "myfunc(3,5)"
   ]
  },
  {
   "cell_type": "markdown",
   "id": "23a2021c",
   "metadata": {},
   "source": [
    "###### increasing the parameters\n",
    "- for the same function if we try to pass more parameters it throws a error\n",
    "\n",
    "\n",
    "myfunc(3,5,7)\n",
    "\n",
    "---------------------------------------------------------------------------\n",
    "TypeError                                 Traceback (most recent call last)\n",
    "~\\AppData\\Local\\Temp\\ipykernel_9864\\2717536931.py in <module>\n",
    "      1 # for the same function if we try to pass more parameters it throws a error\n",
    "----> 2 myfunc(3,5,7)\n",
    "\n",
    "TypeError: myfunc() takes 2 positional arguments but 3 were given"
   ]
  },
  {
   "cell_type": "code",
   "execution_count": 52,
   "id": "f1ad6901",
   "metadata": {},
   "outputs": [
    {
     "data": {
      "text/plain": [
       "500.0"
      ]
     },
     "execution_count": 52,
     "metadata": {},
     "output_type": "execute_result"
    }
   ],
   "source": [
    "# solution - *args\n",
    "def myfunc(*args):\n",
    "    return sum(args) * 10.0\n",
    "\n",
    "myfunc(10,20,20)\n",
    "    "
   ]
  },
  {
   "cell_type": "code",
   "execution_count": 56,
   "id": "155c4b71",
   "metadata": {},
   "outputs": [
    {
     "name": "stdout",
     "output_type": "stream",
     "text": [
      "kwargs: {'name': 'eren yeager', 'titan_form': ['attack titan', 'founding titan']}\n"
     ]
    }
   ],
   "source": [
    "# *kwargs is used to allow a function to accept any number of keyword argument\n",
    "\n",
    "def prnt(**kwargs):\n",
    "    print(f'kwargs: {kwargs}')\n",
    "          \n",
    "prnt(name='eren yeager',titan_form = ['attack titan','founding titan'])"
   ]
  },
  {
   "cell_type": "code",
   "execution_count": 58,
   "id": "b23e920d",
   "metadata": {},
   "outputs": [],
   "source": [
    "# *args and **kwargs are the default conventions \n",
    "# we can use our own convention but args and kwargs preferred "
   ]
  },
  {
   "cell_type": "code",
   "execution_count": 59,
   "id": "da34994c",
   "metadata": {},
   "outputs": [
    {
     "name": "stdout",
     "output_type": "stream",
     "text": [
      "a: 1\n",
      "b: 2\n",
      "args: (3, 4, 5)\n",
      "kwargs: {'name': 'shadow', 'age': 24}\n"
     ]
    }
   ],
   "source": [
    "# using *args and **kwargs together \n",
    "def complex_function(a, b, *args, **kwargs):\n",
    "    print(f\"a: {a}\")\n",
    "    print(f\"b: {b}\")\n",
    "    print(f\"args: {args}\")\n",
    "    print(f\"kwargs: {kwargs}\")\n",
    "\n",
    "# Example usage:\n",
    "complex_function(1, 2, 3, 4, 5, name=\"shadow\", age=24)\n"
   ]
  },
  {
   "cell_type": "code",
   "execution_count": null,
   "id": "7d934a43",
   "metadata": {},
   "outputs": [],
   "source": []
  }
 ],
 "metadata": {
  "kernelspec": {
   "display_name": "Python 3 (ipykernel)",
   "language": "python",
   "name": "python3"
  },
  "language_info": {
   "codemirror_mode": {
    "name": "ipython",
    "version": 3
   },
   "file_extension": ".py",
   "mimetype": "text/x-python",
   "name": "python",
   "nbconvert_exporter": "python",
   "pygments_lexer": "ipython3",
   "version": "3.9.13"
  }
 },
 "nbformat": 4,
 "nbformat_minor": 5
}
