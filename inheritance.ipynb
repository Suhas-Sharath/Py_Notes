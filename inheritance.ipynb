{
 "cells": [
  {
   "cell_type": "markdown",
   "id": "d8f678b6",
   "metadata": {},
   "source": [
    "# INHERITANCE\n",
    "- PARENT CLASS / BASE CLASS\n",
    "- CHILD CLASS / DERIVED CLASS\n",
    "- new class to inherit attributes and methods from an existing class\n",
    "- \"IS-A\" relationship b/w both the classes"
   ]
  },
  {
   "cell_type": "code",
   "execution_count": 1,
   "id": "1fe63c92",
   "metadata": {},
   "outputs": [
    {
     "name": "stdout",
     "output_type": "stream",
     "text": [
      "id 1 belongs to shadow\n",
      "id 2 belongs to zoro\n",
      "id 1 belongs to shadow who codes in python\n",
      "id 2 belongs to zoro who codes in c\n"
     ]
    }
   ],
   "source": [
    "class employee:\n",
    "    def __init__(self,name,id):\n",
    "        self.name = name\n",
    "        self.id = id\n",
    "    def prt_details(self):\n",
    "        return f\"id {self.id} belongs to {self.name}\"\n",
    "    \n",
    "class programmer(employee):\n",
    "    def __init__(self,name,id,language):\n",
    "        self.name = name\n",
    "        self.id = id\n",
    "        self.language = language\n",
    "    def prnt(self):\n",
    "        return f\"{self.prt_details()} who codes in {self.language}\"\n",
    "\n",
    "e1 = employee('shadow',1)\n",
    "print(e1.prt_details())\n",
    "\n",
    "e2 = employee('zoro',2)\n",
    "print(e2.prt_details())\n",
    "\n",
    "p1 = programmer('shadow',1,'python')\n",
    "print(p1.prnt())\n",
    "\n",
    "p2 = programmer('zoro',2,'c')\n",
    "print(p2.prnt())"
   ]
  },
  {
   "cell_type": "markdown",
   "id": "8628ee5c",
   "metadata": {},
   "source": [
    "NOTE : above code is an example of single level inheritance"
   ]
  },
  {
   "cell_type": "markdown",
   "id": "6e347597",
   "metadata": {},
   "source": [
    "###### INHERTIANCE TYPES\n",
    "\n",
    "1. single \n",
    "2. multiple\n",
    "3. mutlilevel \n",
    "4. hierarchical"
   ]
  },
  {
   "cell_type": "markdown",
   "id": "d6df971a",
   "metadata": {},
   "source": [
    "### multiple"
   ]
  },
  {
   "cell_type": "code",
   "execution_count": 2,
   "id": "022ca5ea",
   "metadata": {},
   "outputs": [
    {
     "name": "stdout",
     "output_type": "stream",
     "text": [
      "('5 power is 25', '5 in words is five')\n",
      "('1234 power is 1522756', '1234 in words is one thousand, two hundred and thirty-four')\n"
     ]
    }
   ],
   "source": [
    "# mutiple inheritance \n",
    "from num2words import num2words\n",
    "\n",
    "class power:\n",
    "    def __init__(self,number):\n",
    "        self.number = number\n",
    "    def cal_pow(self):\n",
    "        return self.number ** 2\n",
    "class num_to_word:\n",
    "    def __init__(self,number):\n",
    "        self.number = number\n",
    "    def word(self):\n",
    "        return num2words(self.number)\n",
    "\n",
    "class func(power,num_to_word):\n",
    "    def __init__(self,number):\n",
    "        super().__init__(number)\n",
    "    def prnt(self):\n",
    "        res1 = f'{self.number} power is {self.cal_pow()}'\n",
    "        res2 = f'{self.number} in words is {self.word()}'\n",
    "        return res1,res2\n",
    "f1 = func(5)\n",
    "print(f1.prnt())\n",
    "\n",
    "f2 = func(1234)\n",
    "print(f2.prnt())"
   ]
  },
  {
   "cell_type": "markdown",
   "id": "79196b1d",
   "metadata": {},
   "source": [
    "### multi-level"
   ]
  },
  {
   "cell_type": "code",
   "execution_count": 3,
   "id": "a53d524a",
   "metadata": {},
   "outputs": [
    {
     "name": "stdout",
     "output_type": "stream",
     "text": [
      "output of class AotCharacter - This character eren yeager belongs to Attack on titan.\n",
      "--------------------------------------------------------------------\n",
      "output of class AotRole - This character eren yeager belongs to Attack on titan. This character plays the role of main protagonist.\n",
      "--------------------------------------------------------------------\n",
      "output of class AotTitan - This character eren yeager belongs to Attack on titan. This character plays the role of main protagonist. This character owns the attack titan form.\n"
     ]
    }
   ],
   "source": [
    "# multi-level\n",
    "class AotCharacter():\n",
    "    \n",
    "    def __init__(self,name):\n",
    "        self.name = name\n",
    "    \n",
    "    def character_print(self):\n",
    "        return f'This character {self.name} belongs to Attack on titan.'\n",
    "    \n",
    "class AotRole(AotCharacter):\n",
    "    \n",
    "    def __init__(self,name,role):\n",
    "        super().__init__(name)\n",
    "        self.role = role\n",
    "        \n",
    "    def role_print(self):\n",
    "        return f'{super().character_print()} This character plays the role of {self.role}.'\n",
    "    \n",
    "class AotTitan(AotRole):\n",
    "    \n",
    "    def __init__(self,name,role,titan):\n",
    "        super().__init__(name,role)\n",
    "        self.titan = titan\n",
    "        \n",
    "    def titan_print(self):\n",
    "        return f'{super().role_print()} This character owns the {self.titan} titan form.'\n",
    "    \n",
    "\n",
    "c1 = AotCharacter('eren yeager')\n",
    "print(f'output of class AotCharacter - {c1.character_print()}')     # 'This character eren yeager belongs to Attack on titan.'\n",
    "\n",
    "print('--------------------------------------------------------------------')\n",
    "r1 = AotRole('eren yeager','main protagonist')\n",
    "print(f'output of class AotRole - {r1.role_print()}')\n",
    "\n",
    "print('--------------------------------------------------------------------')\n",
    "\n",
    "t1 = AotTitan('eren yeager','main protagonist','attack')\n",
    "print(f'output of class AotTitan - {t1.titan_print()}')"
   ]
  },
  {
   "attachments": {
    "AotCharacter%20parameters%20-%20name.png": {
     "image/png": "[encoded data removed]"
    }
   },
   "cell_type": "markdown",
   "id": "a5e0fcd8",
   "metadata": {},
   "source": [
    "![AotCharacter%20parameters%20-%20name.png](attachment:AotCharacter%20parameters%20-%20name.png)"
   ]
  },
  {
   "cell_type": "markdown",
   "id": "a76c87b6",
   "metadata": {},
   "source": [
    "### hierarchical"
   ]
  },
  {
   "attachments": {
    "AotCharacter%20parameters%20-%20name%20%281%29.png": {
     "image/png": "[encoded data removed]"
    }
   },
   "cell_type": "markdown",
   "id": "095e7ffd",
   "metadata": {},
   "source": [
    "![AotCharacter%20parameters%20-%20name%20%281%29.png](attachment:AotCharacter%20parameters%20-%20name%20%281%29.png)"
   ]
  },
  {
   "cell_type": "code",
   "execution_count": 4,
   "id": "2b78c521",
   "metadata": {},
   "outputs": [
    {
     "name": "stdout",
     "output_type": "stream",
     "text": [
      "Car name is ae86. \n",
      "--------------------------------------------------\n",
      "Car name is ae86. This is the Trueno model. \n",
      "--------------------------------------------------\n",
      "Car name is ae86. This is the levin model. \n",
      "--------------------------------------------------\n",
      "Car name is ae86. This is the Trueno model. This is the GT-V variant. \n",
      "--------------------------------------------------\n",
      "Car name is ae86. This is the Trueno model. This is the GT-APEX variant. \n"
     ]
    }
   ],
   "source": [
    "# HIERARCHICAL\n",
    "\n",
    "class Ae86:\n",
    "    def __init__(self,car = 'ae86'):\n",
    "        self.car = car\n",
    "        \n",
    "    def car_print(self):\n",
    "        return f'Car name is {self.car}. ' \n",
    "    \n",
    "class Trueno(Ae86):\n",
    "    def __init__(self,model = 'Trueno'):\n",
    "        super().__init__(car = 'ae86')\n",
    "        self.model = model\n",
    "        \n",
    "    def Tmodel_print(self):\n",
    "        return f'{super().car_print()}This is the {self.model} model. '\n",
    "    \n",
    "class Levin(Ae86):\n",
    "    def __init__(self,model = 'levin'):\n",
    "        super().__init__(car = 'ae86')\n",
    "        self.model = model\n",
    "        \n",
    "    def Lmodel_print(self):\n",
    "        return f'{super().car_print()}This is the {self.model} model. '\n",
    "    \n",
    "class GtV(Trueno):\n",
    "    def __init__(self,variant = 'GT-V'):\n",
    "        super().__init__(model = 'Trueno')\n",
    "        self.variant = variant\n",
    "        \n",
    "    def variant_print(self):\n",
    "        return f'{super().Tmodel_print()}This is the {self.variant} variant. '\n",
    "    \n",
    "class GtApex(Trueno):\n",
    "    def __init__(self,variant = 'GT-APEX'):\n",
    "        super().__init__(model = 'Trueno')\n",
    "        self.variant = variant\n",
    "        \n",
    "    def variant_print(self):\n",
    "        return f'{super().Tmodel_print()}This is the {self.variant} variant. '\n",
    "    \n",
    "    \n",
    "c1 = Ae86()\n",
    "print(c1.car_print())\n",
    "print('--------------------------------------------------')\n",
    "t1 = Trueno()\n",
    "print(t1.Tmodel_print())\n",
    "print('--------------------------------------------------')\n",
    "t2 = Levin()\n",
    "print(t2.Lmodel_print())\n",
    "print('--------------------------------------------------')\n",
    "v1 = GtV()\n",
    "print(v1.variant_print())\n",
    "print('--------------------------------------------------')\n",
    "v2 = GtApex()\n",
    "print(v2.variant_print())"
   ]
  },
  {
   "cell_type": "code",
   "execution_count": 5,
   "id": "6102f703",
   "metadata": {},
   "outputs": [],
   "source": [
    "# super()\n",
    "# Code 1 (Original)\n",
    "class programmer(employee):\n",
    "    def __init__(self, name, id, language):\n",
    "        self.name = name\n",
    "        self.id = id\n",
    "        self.language = language\n",
    "\n",
    "# Code 2 (Improved)\n",
    "class programmer(employee):\n",
    "    def __init__(self, name, id, language):\n",
    "        super().__init__(name, id)\n",
    "        self.language = language\n",
    "\n",
    "        \n",
    "        "
   ]
  },
  {
   "cell_type": "markdown",
   "id": "4a87211a",
   "metadata": {},
   "source": [
    "Use of super() function:\n",
    "In code 2, the super().__init__(name, id) call is used in the programmer class to invoke the constructor of the parent class (employee). This is more maintainable and avoids redundancy in code. It ensures that the initialization logic in the base class is executed, preventing code duplication.\n",
    "\n",
    "Encapsulation of Details:\n",
    "Code 2 encapsulates the details of the base class initialization within the super() call, making it clearer and more modular. It promotes the principle of encapsulation, where each class is responsible for its own behavior, and changes in one class do not directly affect another.\n",
    "\n",
    "Readability:\n",
    "Using super() improves the readability of the code by explicitly indicating that you are calling a method from the parent class. It enhances the understanding of the code's structure and relationships."
   ]
  }
 ],
 "metadata": {
  "kernelspec": {
   "display_name": "Python 3 (ipykernel)",
   "language": "python",
   "name": "python3"
  },
  "language_info": {
   "codemirror_mode": {
    "name": "ipython",
    "version": 3
   },
   "file_extension": ".py",
   "mimetype": "text/x-python",
   "name": "python",
   "nbconvert_exporter": "python",
   "pygments_lexer": "ipython3",
   "version": "3.9.13"
  }
 },
 "nbformat": 4,
 "nbformat_minor": 5
}
