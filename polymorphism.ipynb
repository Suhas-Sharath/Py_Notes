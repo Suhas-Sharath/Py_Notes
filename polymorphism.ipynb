{
 "cells": [
  {
   "cell_type": "markdown",
   "id": "a77c18c4",
   "metadata": {},
   "source": [
    "# polymorphism"
   ]
  },
  {
   "cell_type": "markdown",
   "id": "6425b08f",
   "metadata": {},
   "source": [
    "### overriding\n",
    "Method overriding is achieved by defining a method in the subclass that is already defined in the superclass. The method in the subclass should have the same name and signature as the method in the superclass.\n",
    "\n",
    "This allows a subclass to provide a specific implementation of a method that is already defined in its superclass."
   ]
  },
  {
   "cell_type": "code",
   "execution_count": 1,
   "id": "a90623ac",
   "metadata": {},
   "outputs": [
    {
     "name": "stdout",
     "output_type": "stream",
     "text": [
      "Action Movie Information:\n",
      "Title: Die Hard\n",
      "Duration: 130 minutes\n",
      "Explosions: 50 explosions\n",
      "\n",
      "Comedy Movie Information:\n",
      "Title: Superbad\n",
      "Duration: 118 minutes\n",
      "Laughs per Minute: 8\n"
     ]
    }
   ],
   "source": [
    "class Movie:\n",
    "    def __init__(self, title, duration):\n",
    "        self.title = title\n",
    "        self.duration = duration\n",
    "\n",
    "    def display_info(self):\n",
    "        return f\"Title: {self.title}\\nDuration: {self.duration} minutes\"\n",
    "\n",
    "\n",
    "class ActionMovie(Movie):\n",
    "    def __init__(self, title, duration, explosions):\n",
    "        super().__init__(title, duration)\n",
    "        self.explosions = explosions\n",
    "\n",
    "    # Override display_info for ActionMovie\n",
    "    def display_info(self):\n",
    "        return f\"{super().display_info()}\\nExplosions: {self.explosions} explosions\"\n",
    "\n",
    "\n",
    "class ComedyMovie(Movie):\n",
    "    def __init__(self, title, duration, laughs_per_minute):\n",
    "        super().__init__(title, duration)\n",
    "        self.laughs_per_minute = laughs_per_minute\n",
    "\n",
    "    # Override display_info for ComedyMovie\n",
    "    def display_info(self):\n",
    "        return f\"{super().display_info()}\\nLaughs per Minute: {self.laughs_per_minute}\"\n",
    "\n",
    "\n",
    "# Create instances of the classes\n",
    "action_movie = ActionMovie(\"Die Hard\", 130, 50)\n",
    "comedy_movie = ComedyMovie(\"Superbad\", 118, 8)\n",
    "\n",
    "# Display information using polymorphism\n",
    "print(\"Action Movie Information:\")\n",
    "print(action_movie.display_info())\n",
    "print(\"\\nComedy Movie Information:\")\n",
    "print(comedy_movie.display_info())\n"
   ]
  },
  {
   "cell_type": "markdown",
   "id": "5f6e7455",
   "metadata": {},
   "source": [
    "### overloading\n",
    "In Python, method overloading is achieved by defining multiple methods in a class with the same name but with different parameters.\n",
    "\n",
    "Python does not support true method overloading (where multiple methods have the same name and the compiler determines the appropriate method based on the number and types of arguments). However, you can achieve a similar effect by using default parameter values or variable-length argument lists.\n"
   ]
  },
  {
   "cell_type": "code",
   "execution_count": 2,
   "id": "6744ecf9",
   "metadata": {},
   "outputs": [
    {
     "name": "stdout",
     "output_type": "stream",
     "text": [
      "3\n",
      "6\n"
     ]
    }
   ],
   "source": [
    "class Example:\n",
    "    def add(self, a=None, b=None, c=None):\n",
    "        if a is not None and b is not None and c is not None:\n",
    "            return a + b + c\n",
    "        elif a is not None and b is not None:\n",
    "            return a + b\n",
    "        else:\n",
    "            return a\n",
    "\n",
    "obj = Example()\n",
    "print(obj.add(1, 2))         # Output: 3\n",
    "print(obj.add(1, 2, 3))      # Output: 6\n"
   ]
  }
 ],
 "metadata": {
  "kernelspec": {
   "display_name": "Python 3 (ipykernel)",
   "language": "python",
   "name": "python3"
  },
  "language_info": {
   "codemirror_mode": {
    "name": "ipython",
    "version": 3
   },
   "file_extension": ".py",
   "mimetype": "text/x-python",
   "name": "python",
   "nbconvert_exporter": "python",
   "pygments_lexer": "ipython3",
   "version": "3.9.13"
  }
 },
 "nbformat": 4,
 "nbformat_minor": 5
}
