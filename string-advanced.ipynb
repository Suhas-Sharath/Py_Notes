{
 "cells": [
  {
   "cell_type": "code",
   "execution_count": 1,
   "id": "09b323d8",
   "metadata": {},
   "outputs": [
    {
     "name": "stdout",
     "output_type": "stream",
     "text": [
      "Is alphanumeric: True\n",
      "Is alphabetical: True\n",
      "Is numeric: False\n",
      "Is in lowercase: True\n",
      "Is in uppercase: False\n",
      "Is titlecased: False\n",
      "Is space-separated: False\n",
      "Does the string end with 'ow': True\n",
      "Does the string end with any of ('ow', 'do'): True\n"
     ]
    }
   ],
   "source": [
    "my_string = 'shadow'\n",
    "\n",
    "# Check if the string is alphanumeric\n",
    "is_alphanumeric = my_string.isalnum()\n",
    "print(f\"Is alphanumeric: {is_alphanumeric}\")\n",
    "\n",
    "# Check if the string is alphabetical\n",
    "is_alpha = my_string.isalpha()\n",
    "print(f\"Is alphabetical: {is_alpha}\")\n",
    "\n",
    "# Check if the string is numeric\n",
    "is_numeric = my_string.isnumeric()\n",
    "print(f\"Is numeric: {is_numeric}\")\n",
    "\n",
    "# Check if the string is in lowercase\n",
    "is_lower = my_string.islower()\n",
    "print(f\"Is in lowercase: {is_lower}\")\n",
    "\n",
    "# Check if the string is in uppercase\n",
    "is_upper = my_string.isupper()\n",
    "print(f\"Is in uppercase: {is_upper}\")\n",
    "\n",
    "# Check if the string is a titlecased string\n",
    "is_title = my_string.istitle()\n",
    "print(f\"Is titlecased: {is_title}\")\n",
    "\n",
    "# Check if the string is a space-separated string of words\n",
    "is_space_separated = my_string.isspace()\n",
    "print(f\"Is space-separated: {is_space_separated}\")\n",
    "\n",
    "# Check if the string ends with a specific suffix\n",
    "suffix = 'ow'\n",
    "ends_with_suffix = my_string.endswith(suffix)\n",
    "print(f\"Does the string end with '{suffix}': {ends_with_suffix}\")\n",
    "\n",
    "# You can also check for multiple suffixes by passing a tuple\n",
    "suffixes = ('ow', 'do')\n",
    "ends_with_suffixes = my_string.endswith(suffixes)\n",
    "print(f\"Does the string end with any of {suffixes}: {ends_with_suffixes}\")"
   ]
  },
  {
   "cell_type": "code",
   "execution_count": null,
   "id": "28720305",
   "metadata": {},
   "outputs": [],
   "source": []
  }
 ],
 "metadata": {
  "kernelspec": {
   "display_name": "Python 3 (ipykernel)",
   "language": "python",
   "name": "python3"
  },
  "language_info": {
   "codemirror_mode": {
    "name": "ipython",
    "version": 3
   },
   "file_extension": ".py",
   "mimetype": "text/x-python",
   "name": "python",
   "nbconvert_exporter": "python",
   "pygments_lexer": "ipython3",
   "version": "3.9.13"
  }
 },
 "nbformat": 4,
 "nbformat_minor": 5
}
