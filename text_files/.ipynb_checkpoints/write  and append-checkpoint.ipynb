{
 "cells": [
  {
   "cell_type": "code",
   "execution_count": 1,
   "id": "c2076133",
   "metadata": {},
   "outputs": [
    {
     "name": "stdout",
     "output_type": "stream",
     "text": [
      "one piece is an anime about pirates.\n"
     ]
    }
   ],
   "source": [
    "with open('one_piece.txt','w+') as file:\n",
    "    file.write('one piece is an anime about pirates.')\n",
    "    file.seek(0)\n",
    "    content = file.read()\n",
    "    print(content)\n",
    "    \n",
    "    file.close()"
   ]
  },
  {
   "cell_type": "code",
   "execution_count": 2,
   "id": "157f6609",
   "metadata": {},
   "outputs": [],
   "source": [
    "with open('one_piece.txt','w') as file:\n",
    "    file.write('one Piece has more than 1000 episodes')\n",
    "    "
   ]
  },
  {
   "attachments": {
    "1.png": {
     "image/png": "[encoded data removed]"
    }
   },
   "cell_type": "markdown",
   "id": "db4d59fa",
   "metadata": {},
   "source": [
    "![1.png](attachment:1.png)"
   ]
  },
  {
   "cell_type": "code",
   "execution_count": 3,
   "id": "4164ab34",
   "metadata": {},
   "outputs": [],
   "source": [
    "# Open a file in append mode ('a')\n",
    "with open('one_piece.txt', 'a') as file:\n",
    "    file.write('This is appended content.\\n')\n"
   ]
  },
  {
   "cell_type": "code",
   "execution_count": 4,
   "id": "f08fc1f7",
   "metadata": {},
   "outputs": [
    {
     "name": "stdout",
     "output_type": "stream",
     "text": [
      "one Piece has more than 1000 episodesThis is appended content.\n",
      " This is the next appended content.\n",
      "\n"
     ]
    }
   ],
   "source": [
    "# Open a file in append and read mode ('a+')\n",
    "with open('one_piece.txt', 'a+') as file:\n",
    "    file.write(' This is the next appended content.\\n')\n",
    "    file.seek(0)  # Move the file pointer to the beginning\n",
    "    content = file.read()  # Read the content\n",
    "    print(content)\n"
   ]
  }
 ],
 "metadata": {
  "kernelspec": {
   "display_name": "Python 3 (ipykernel)",
   "language": "python",
   "name": "python3"
  },
  "language_info": {
   "codemirror_mode": {
    "name": "ipython",
    "version": 3
   },
   "file_extension": ".py",
   "mimetype": "text/x-python",
   "name": "python",
   "nbconvert_exporter": "python",
   "pygments_lexer": "ipython3",
   "version": "3.9.13"
  }
 },
 "nbformat": 4,
 "nbformat_minor": 5
}
