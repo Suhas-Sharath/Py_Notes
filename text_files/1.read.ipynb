{
 "cells": [
  {
   "cell_type": "markdown",
   "id": "c99f19a5",
   "metadata": {},
   "source": [
    "# text files"
   ]
  },
  {
   "cell_type": "markdown",
   "id": "e1eda391",
   "metadata": {},
   "source": [
    "- read , write and create \n",
    "- text files or binary files ( 0's and 1's)\n",
    "- 6 types of modes \n",
    "    - read only = r\n",
    "    - read and write = r+\n",
    "    - write only = w\n",
    "    - write and read = w+\n",
    "    - append = a\n",
    "    - append and read = a+"
   ]
  },
  {
   "cell_type": "raw",
   "id": "23ad778e",
   "metadata": {},
   "source": [
    "# opening a file \n",
    "\n",
    "file = open(r'file name',acess_mode)"
   ]
  },
  {
   "cell_type": "code",
   "execution_count": 1,
   "id": "7118e6c8",
   "metadata": {},
   "outputs": [
    {
     "name": "stdout",
     "output_type": "stream",
     "text": [
      "\"Attack on Titan,\" originally titled \"Shingeki no Kyojin\" in Japanese, is a critically acclaimed manga series created by Hajime Isayama.\n",
      "The narrative unfolds in a world where humanity resides within enormous walled cities to protect themselves from gigantic humanoid creatures known as Titans.\n",
      "The story centers around Eren Yeager, his adoptive sister Mikasa Ackerman, and their friend Armin Arlert, who witness the destruction of their city when a colossal Titan breaches the protective walls. Fueled by a desire for vengeance and a determination to explore the world beyond the walls, Eren enlists in the military's elite Survey Corps.\n",
      "As the series progresses,\"Attack on Titan\" explores complex themes of survival, freedom, and the consequences of war.\n",
      "The narrative is marked by unpredictable twists, intricate character development, and a sense of urgency that keeps readers and viewers on the edge of their seats.\n",
      "\n",
      "The series has achieved international acclaim for its intense storytelling, well-developed characters, and thematic depth.\n",
      "It has been adapted into an anime series that has further popularized the franchise globally.\n",
      "\"Attack on Titan\" is known for its mature and thought-provoking content, delving into moral dilemmas and the psychological impact of living in a world besieged by Titans.\n",
      "The intricate plot, along with the stunning animation in the anime adaptation, has captivated audiences and contributed to the series' status as a significant cultural phenomenon in the world of manga and anime.\n",
      "---------------------------------------------------\n"
     ]
    }
   ],
   "source": [
    "file = open('attack_on_titan.txt','r')\n",
    "content = file.read()\n",
    "print(content)\n",
    "print('---------------------------------------------------')\n"
   ]
  },
  {
   "cell_type": "code",
   "execution_count": 2,
   "id": "cc69897f",
   "metadata": {},
   "outputs": [
    {
     "name": "stdout",
     "output_type": "stream",
     "text": [
      "\"Attack on Titan,\" originally titled \"Shingeki no Kyojin\" in Japanese, is a critically acclaimed man\n"
     ]
    }
   ],
   "source": [
    "file = open('attack_on_titan.txt','r')\n",
    "content1 = file.read(100)\n",
    "print(content1)"
   ]
  },
  {
   "cell_type": "raw",
   "id": "c7429fb8",
   "metadata": {},
   "source": [
    "note that read() returns in the form of string and it read bytes so 100 means 100 uk"
   ]
  },
  {
   "cell_type": "code",
   "execution_count": 3,
   "id": "6dd078b4",
   "metadata": {},
   "outputs": [
    {
     "name": "stdout",
     "output_type": "stream",
     "text": [
      "\"Attack on Titan,\" originally titled \"Shingeki no Kyojin\" in Japanese, is a critically acclaimed manga series created by Hajime Isayama.\n",
      "\n"
     ]
    }
   ],
   "source": [
    "# reading line using readline\n",
    "file = open('attack_on_titan.txt', 'r')\n",
    "\n",
    "# Read one line\n",
    "\n",
    "line1 = file.readline()\n",
    "print(line1)\n"
   ]
  },
  {
   "cell_type": "code",
   "execution_count": 4,
   "id": "14a6cb08",
   "metadata": {},
   "outputs": [
    {
     "name": "stdout",
     "output_type": "stream",
     "text": [
      "The narrative unfolds in a world where humanity resides within enormous walled cities to protect themselves from gigantic humanoid creatures known as Titans.\n",
      "\n",
      "The story centers around Eren Yeager, his adoptive sister Mikasa Ackerman, and their friend Armin Arlert, who witness the destruction of their city when a colossal Titan breaches the protective walls. Fueled by a desire for vengeance and a determination to explore the world beyond the walls, Eren enlists in the military's elite Survey Corps.\n",
      "\n",
      "As the series progresses,\"Attack on Titan\" explores complex themes of survival, freedom, and the consequences of war.\n",
      "\n",
      "The narrative is marked by unpredictable twists, intricate character development, and a sense of urgency that keeps readers and viewers on the edge of their seats.\n",
      "\n",
      "\n",
      "\n",
      "The series has achieved international acclaim for its intense storytelling, well-developed characters, and thematic depth.\n",
      "\n",
      "It has been adapted into an anime series that has further popularized the franchise globally.\n",
      "\n",
      "\"Attack on Titan\" is known for its mature and thought-provoking content, delving into moral dilemmas and the psychological impact of living in a world besieged by Titans.\n",
      "\n",
      "The intricate plot, along with the stunning animation in the anime adaptation, has captivated audiences and contributed to the series' status as a significant cultural phenomenon in the world of manga and anime.\n"
     ]
    }
   ],
   "source": [
    "# using readlines\n",
    "\n",
    "with open('attack_on_titan.txt','r'):\n",
    "    lines = file.readlines()\n",
    "\n",
    "    for line in lines:\n",
    "        print(line)"
   ]
  },
  {
   "cell_type": "code",
   "execution_count": 5,
   "id": "f2a4ddcc",
   "metadata": {},
   "outputs": [
    {
     "name": "stdout",
     "output_type": "stream",
     "text": [
      "\"Attack on Titan,\" originally titled \"Shingeki no Kyojin\" in Japanese, is a critically acclaimed manga series created by Hajime Isayama.\n",
      "The narrative unfolds in a world where humanity resides within enormous walled cities to protect themselves from gigantic humanoid creatures known as Titans.\n",
      "The story centers around Eren Yeager, his adoptive sister Mikasa Ackerman, and their friend Armin Arlert, who witness the destruction of their city when a colossal Titan breaches the protective walls. Fueled by a desire for vengeance and a determination to explore the world beyond the walls, Eren enlists in the military's elite Survey Corps.\n",
      "As the series progresses,\"Attack on Titan\" explores complex themes of survival, freedom, and the consequences of war.\n",
      "The narrative is marked by unpredictable twists, intricate character development, and a sense of urgency that keeps readers and viewers on the edge of their seats.\n",
      "\n",
      "The series has achieved international acclaim for its intense storytelling, well-developed characters, and thematic depth.\n",
      "It has been adapted into an anime series that has further popularized the franchise globally.\n",
      "\"Attack on Titan\" is known for its mature and thought-provoking content, delving into moral dilemmas and the psychological impact of living in a world besieged by Titans.\n",
      "The intricate plot, along with the stunning animation in the anime adaptation, has captivated audiences and contributed to the series' status as a significant cultural phenomenon in the world of manga and anime.\n"
     ]
    }
   ],
   "source": [
    "# read +\n",
    "# r+\n",
    "\n",
    "with open('attack_on_titan.txt', 'r+') as file:\n",
    "    content = file.read()  # Read existing content\n",
    "    print(content)\n",
    "    file.seek(0)     # move the pointer to starting of the file \n",
    "    file.write('best anime of the year.')  # Write new content, overwriting existing content"
   ]
  },
  {
   "cell_type": "code",
   "execution_count": 6,
   "id": "ec09e5ce",
   "metadata": {},
   "outputs": [
    {
     "name": "stdout",
     "output_type": "stream",
     "text": [
      "best anime of the year.inally titled \"Shingeki no Kyojin\" in Japanese, is a critically acclaimed manga series created by Hajime Isayama.\n",
      "The narrative unfolds in a world where humanity resides within enormous walled cities to protect themselves from gigantic humanoid creatures known as Titans.\n",
      "The story centers around Eren Yeager, his adoptive sister Mikasa Ackerman, and their friend Armin Arlert, who witness the destruction of their city when a colossal Titan breaches the protective walls. Fueled by a desire for vengeance and a determination to explore the world beyond the walls, Eren enlists in the military's elite Survey Corps.\n",
      "As the series progresses,\"Attack on Titan\" explores complex themes of survival, freedom, and the consequences of war.\n",
      "The narrative is marked by unpredictable twists, intricate character development, and a sense of urgency that keeps readers and viewers on the edge of their seats.\n",
      "\n",
      "The series has achieved international acclaim for its intense storytelling, well-developed characters, and thematic depth.\n",
      "It has been adapted into an anime series that has further popularized the franchise globally.\n",
      "\"Attack on Titan\" is known for its mature and thought-provoking content, delving into moral dilemmas and the psychological impact of living in a world besieged by Titans.\n",
      "The intricate plot, along with the stunning animation in the anime adaptation, has captivated audiences and contributed to the series' status as a significant cultural phenomenon in the world of manga and anime.\n"
     ]
    }
   ],
   "source": [
    "with open('attack_on_titan.txt','r') as file:\n",
    "    content = file.read()\n",
    "    print(content)"
   ]
  }
 ],
 "metadata": {
  "kernelspec": {
   "display_name": "Python 3 (ipykernel)",
   "language": "python",
   "name": "python3"
  },
  "language_info": {
   "codemirror_mode": {
    "name": "ipython",
    "version": 3
   },
   "file_extension": ".py",
   "mimetype": "text/x-python",
   "name": "python",
   "nbconvert_exporter": "python",
   "pygments_lexer": "ipython3",
   "version": "3.9.13"
  }
 },
 "nbformat": 4,
 "nbformat_minor": 5
}
